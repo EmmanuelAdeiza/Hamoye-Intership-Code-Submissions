{
 "nbformat": 4,
 "nbformat_minor": 2,
 "metadata": {
  "language_info": {
   "name": "python",
   "codemirror_mode": {
    "name": "ipython",
    "version": 3
   },
   "version": "3.7.4-final"
  },
  "orig_nbformat": 2,
  "file_extension": ".py",
  "mimetype": "text/x-python",
  "name": "python",
  "npconvert_exporter": "python",
  "pygments_lexer": "ipython3",
  "version": 3,
  "kernelspec": {
   "name": "python3",
   "display_name": "Python 3"
  }
 },
 "cells": [
  {
   "cell_type": "code",
   "execution_count": 1,
   "metadata": {},
   "outputs": [],
   "source": [
    "import numpy as np\n",
    "import pandas as pd\n",
    "import seaborn as sns\n",
    "%matplotlib inline\n",
    "from sklearn.preprocessing import MinMaxScaler"
   ]
  },
  {
   "cell_type": "code",
   "execution_count": 2,
   "metadata": {},
   "outputs": [],
   "source": [
    "df=pd.read_csv('C:/Users/Pistis/Documents/GitHub/HamoyeHQ/energydata_complete.csv')\n"
   ]
  },
  {
   "cell_type": "code",
   "execution_count": 3,
   "metadata": {},
   "outputs": [
    {
     "output_type": "execute_result",
     "data": {
      "text/plain": "                  date  Appliances  lights     T1       RH_1    T2       RH_2  \\\n0  2016-01-11 17:00:00          60      30  19.89  47.596667  19.2  44.790000   \n1  2016-01-11 17:10:00          60      30  19.89  46.693333  19.2  44.722500   \n2  2016-01-11 17:20:00          50      30  19.89  46.300000  19.2  44.626667   \n\n      T3       RH_3         T4  ...         T9   RH_9     T_out  Press_mm_hg  \\\n0  19.79  44.730000  19.000000  ...  17.033333  45.53  6.600000        733.5   \n1  19.79  44.790000  19.000000  ...  17.066667  45.56  6.483333        733.6   \n2  19.79  44.933333  18.926667  ...  17.000000  45.50  6.366667        733.7   \n\n   RH_out  Windspeed  Visibility  Tdewpoint        rv1        rv2  \n0    92.0   7.000000   63.000000        5.3  13.275433  13.275433  \n1    92.0   6.666667   59.166667        5.2  18.606195  18.606195  \n2    92.0   6.333333   55.333333        5.1  28.642668  28.642668  \n\n[3 rows x 29 columns]",
      "text/html": "<div>\n<style scoped>\n    .dataframe tbody tr th:only-of-type {\n        vertical-align: middle;\n    }\n\n    .dataframe tbody tr th {\n        vertical-align: top;\n    }\n\n    .dataframe thead th {\n        text-align: right;\n    }\n</style>\n<table border=\"1\" class=\"dataframe\">\n  <thead>\n    <tr style=\"text-align: right;\">\n      <th></th>\n      <th>date</th>\n      <th>Appliances</th>\n      <th>lights</th>\n      <th>T1</th>\n      <th>RH_1</th>\n      <th>T2</th>\n      <th>RH_2</th>\n      <th>T3</th>\n      <th>RH_3</th>\n      <th>T4</th>\n      <th>...</th>\n      <th>T9</th>\n      <th>RH_9</th>\n      <th>T_out</th>\n      <th>Press_mm_hg</th>\n      <th>RH_out</th>\n      <th>Windspeed</th>\n      <th>Visibility</th>\n      <th>Tdewpoint</th>\n      <th>rv1</th>\n      <th>rv2</th>\n    </tr>\n  </thead>\n  <tbody>\n    <tr>\n      <td>0</td>\n      <td>2016-01-11 17:00:00</td>\n      <td>60</td>\n      <td>30</td>\n      <td>19.89</td>\n      <td>47.596667</td>\n      <td>19.2</td>\n      <td>44.790000</td>\n      <td>19.79</td>\n      <td>44.730000</td>\n      <td>19.000000</td>\n      <td>...</td>\n      <td>17.033333</td>\n      <td>45.53</td>\n      <td>6.600000</td>\n      <td>733.5</td>\n      <td>92.0</td>\n      <td>7.000000</td>\n      <td>63.000000</td>\n      <td>5.3</td>\n      <td>13.275433</td>\n      <td>13.275433</td>\n    </tr>\n    <tr>\n      <td>1</td>\n      <td>2016-01-11 17:10:00</td>\n      <td>60</td>\n      <td>30</td>\n      <td>19.89</td>\n      <td>46.693333</td>\n      <td>19.2</td>\n      <td>44.722500</td>\n      <td>19.79</td>\n      <td>44.790000</td>\n      <td>19.000000</td>\n      <td>...</td>\n      <td>17.066667</td>\n      <td>45.56</td>\n      <td>6.483333</td>\n      <td>733.6</td>\n      <td>92.0</td>\n      <td>6.666667</td>\n      <td>59.166667</td>\n      <td>5.2</td>\n      <td>18.606195</td>\n      <td>18.606195</td>\n    </tr>\n    <tr>\n      <td>2</td>\n      <td>2016-01-11 17:20:00</td>\n      <td>50</td>\n      <td>30</td>\n      <td>19.89</td>\n      <td>46.300000</td>\n      <td>19.2</td>\n      <td>44.626667</td>\n      <td>19.79</td>\n      <td>44.933333</td>\n      <td>18.926667</td>\n      <td>...</td>\n      <td>17.000000</td>\n      <td>45.50</td>\n      <td>6.366667</td>\n      <td>733.7</td>\n      <td>92.0</td>\n      <td>6.333333</td>\n      <td>55.333333</td>\n      <td>5.1</td>\n      <td>28.642668</td>\n      <td>28.642668</td>\n    </tr>\n  </tbody>\n</table>\n<p>3 rows × 29 columns</p>\n</div>"
     },
     "metadata": {},
     "execution_count": 3
    }
   ],
   "source": [
    "df.head(3)"
   ]
  },
  {
   "cell_type": "code",
   "execution_count": 4,
   "metadata": {},
   "outputs": [
    {
     "output_type": "execute_result",
     "data": {
      "text/plain": "(19735, 29)"
     },
     "metadata": {},
     "execution_count": 4
    }
   ],
   "source": [
    "df.shape"
   ]
  },
  {
   "cell_type": "code",
   "execution_count": 5,
   "metadata": {},
   "outputs": [
    {
     "output_type": "execute_result",
     "data": {
      "text/plain": "date           0\nAppliances     0\nlights         0\nT1             0\nRH_1           0\nT2             0\nRH_2           0\nT3             0\nRH_3           0\nT4             0\nRH_4           0\nT5             0\nRH_5           0\nT6             0\nRH_6           0\nT7             0\nRH_7           0\nT8             0\nRH_8           0\nT9             0\nRH_9           0\nT_out          0\nPress_mm_hg    0\nRH_out         0\nWindspeed      0\nVisibility     0\nTdewpoint      0\nrv1            0\nrv2            0\ndtype: int64"
     },
     "metadata": {},
     "execution_count": 5
    }
   ],
   "source": [
    "df.isnull().sum()"
   ]
  },
  {
   "cell_type": "code",
   "execution_count": 6,
   "metadata": {},
   "outputs": [
    {
     "output_type": "execute_result",
     "data": {
      "text/plain": "             Appliances    lights        T1      RH_1        T2      RH_2  \\\nAppliances     1.000000  0.197278  0.055447  0.086031  0.120073 -0.060465   \nlights         0.197278  1.000000 -0.023528  0.106968 -0.005622  0.050985   \nT1             0.055447 -0.023528  1.000000  0.164006  0.836834 -0.002509   \nRH_1           0.086031  0.106968  0.164006  1.000000  0.269839  0.797535   \nT2             0.120073 -0.005622  0.836834  0.269839  1.000000 -0.165610   \nRH_2          -0.060465  0.050985 -0.002509  0.797535 -0.165610  1.000000   \nT3             0.085060 -0.097393  0.892402  0.253230  0.735245  0.137319   \nRH_3           0.036292  0.131161 -0.028550  0.844677  0.121497  0.678326   \nT4             0.040281 -0.008859  0.877001  0.106180  0.762066 -0.047304   \nRH_4           0.016965  0.114936  0.097861  0.880359  0.231563  0.721435   \nT5             0.019760 -0.078745  0.885247  0.205797  0.720550  0.110409   \nRH_5           0.006955  0.141233 -0.014782  0.303258  0.029595  0.250271   \nT6             0.117638 -0.079029  0.654769  0.316141  0.801186 -0.009670   \nRH_6          -0.083178  0.153756 -0.615045  0.245126 -0.580372  0.389933   \nT7             0.025801 -0.135347  0.838705  0.021397  0.663660 -0.051422   \nRH_7          -0.055642  0.035069  0.135182  0.801122  0.229212  0.690584   \nT8             0.039572 -0.071458  0.825413 -0.030053  0.578191 -0.041023   \nRH_8          -0.094039  0.012915 -0.006441  0.736196  0.068534  0.679777   \nT9             0.010010 -0.157592  0.844777  0.115263  0.675535  0.054544   \nRH_9          -0.051462 -0.008766  0.071756  0.764001  0.157346  0.676467   \nT_out          0.099155 -0.074424  0.682846  0.340767  0.792255  0.033674   \nPress_mm_hg   -0.034885 -0.010576 -0.150574 -0.293957 -0.133028 -0.255646   \nRH_out        -0.152282  0.068543 -0.345481  0.274126 -0.505291  0.584911   \nWindspeed      0.087122  0.060281 -0.087654  0.204932  0.052495  0.069190   \nVisibility     0.000230  0.020038 -0.076210 -0.021057 -0.069721 -0.005368   \nTdewpoint      0.015353 -0.036322  0.571309  0.639106  0.582602  0.499152   \nrv1           -0.011145  0.000521 -0.006203 -0.000699 -0.011087  0.006275   \nrv2           -0.011145  0.000521 -0.006203 -0.000699 -0.011087  0.006275   \n\n                   T3      RH_3        T4      RH_4  ...        T9      RH_9  \\\nAppliances   0.085060  0.036292  0.040281  0.016965  ...  0.010010 -0.051462   \nlights      -0.097393  0.131161 -0.008859  0.114936  ... -0.157592 -0.008766   \nT1           0.892402 -0.028550  0.877001  0.097861  ...  0.844777  0.071756   \nRH_1         0.253230  0.844677  0.106180  0.880359  ...  0.115263  0.764001   \nT2           0.735245  0.121497  0.762066  0.231563  ...  0.675535  0.157346   \nRH_2         0.137319  0.678326 -0.047304  0.721435  ...  0.054544  0.676467   \nT3           1.000000 -0.011234  0.852778  0.122737  ...  0.901324  0.134602   \nRH_3        -0.011234  1.000000 -0.140457  0.898978  ... -0.195270  0.833538   \nT4           0.852778 -0.140457  1.000000 -0.048650  ...  0.889439 -0.025549   \nRH_4         0.122737  0.898978 -0.048650  1.000000  ... -0.044518  0.856591   \nT5           0.888169 -0.050062  0.871813  0.091812  ...  0.911055  0.072308   \nRH_5        -0.066355  0.375422 -0.076489  0.352591  ... -0.138509  0.272197   \nT6           0.686882  0.076833  0.652350  0.259047  ...  0.667177  0.184424   \nRH_6        -0.647672  0.514912 -0.703149  0.392178  ... -0.738940  0.391943   \nT7           0.847374 -0.250090  0.877763 -0.131204  ...  0.944776 -0.077690   \nRH_7         0.172624  0.832685  0.043527  0.894301  ...  0.028055  0.858686   \nT8           0.795283 -0.283228  0.796256 -0.167066  ...  0.869338 -0.156820   \nRH_8         0.044427  0.828822 -0.095192  0.847259  ... -0.113014  0.855812   \nT9           0.901324 -0.195270  0.889439 -0.044518  ...  1.000000 -0.008683   \nRH_9         0.134602  0.833538 -0.025549  0.856591  ... -0.008683  1.000000   \nT_out        0.699417  0.118207  0.663478  0.293289  ...  0.668220  0.223270   \nPress_mm_hg -0.189974 -0.233274 -0.075292 -0.250748  ... -0.156828 -0.183739   \nRH_out      -0.281718  0.356192 -0.388602  0.336813  ... -0.318848  0.359377   \nWindspeed   -0.100776  0.263188 -0.185747  0.300192  ... -0.177756  0.238655   \nVisibility  -0.102310  0.017041 -0.104768  0.002636  ... -0.103915  0.008667   \nTdewpoint    0.645886  0.414387  0.519471  0.616509  ...  0.581483  0.540328   \nrv1         -0.005194 -0.000477 -0.001815 -0.001787  ... -0.001227 -0.002955   \nrv2         -0.005194 -0.000477 -0.001815 -0.001787  ... -0.001227 -0.002955   \n\n                T_out  Press_mm_hg    RH_out  Windspeed  Visibility  \\\nAppliances   0.099155    -0.034885 -0.152282   0.087122    0.000230   \nlights      -0.074424    -0.010576  0.068543   0.060281    0.020038   \nT1           0.682846    -0.150574 -0.345481  -0.087654   -0.076210   \nRH_1         0.340767    -0.293957  0.274126   0.204932   -0.021057   \nT2           0.792255    -0.133028 -0.505291   0.052495   -0.069721   \nRH_2         0.033674    -0.255646  0.584911   0.069190   -0.005368   \nT3           0.699417    -0.189974 -0.281718  -0.100776   -0.102310   \nRH_3         0.118207    -0.233274  0.356192   0.263188    0.017041   \nT4           0.663478    -0.075292 -0.388602  -0.185747   -0.104768   \nRH_4         0.293289    -0.250748  0.336813   0.300192    0.002636   \nT5           0.651321    -0.170999 -0.273953  -0.145011   -0.084164   \nRH_5        -0.053126    -0.119327  0.185941   0.082044   -0.013133   \nT6           0.974787    -0.141643 -0.569119   0.169185   -0.081313   \nRH_6        -0.641572    -0.065814  0.718587   0.098317    0.108705   \nT7           0.631293    -0.097724 -0.411213  -0.185892   -0.110089   \nRH_7         0.294199    -0.265850  0.378519   0.212979   -0.007184   \nT8           0.502842    -0.162855 -0.300438  -0.218876   -0.060098   \nRH_8         0.117141    -0.225591  0.487355   0.202380    0.046178   \nT9           0.668220    -0.156828 -0.318848  -0.177756   -0.103915   \nRH_9         0.223270    -0.183739  0.359377   0.238655    0.008667   \nT_out        1.000000    -0.143249 -0.574197   0.192936   -0.077367   \nPress_mm_hg -0.143249     1.000000 -0.092017  -0.235032    0.040315   \nRH_out      -0.574197    -0.092017  1.000000  -0.176458    0.083125   \nWindspeed    0.192936    -0.235032 -0.176458   1.000000   -0.007516   \nVisibility  -0.077367     0.040315  0.083125  -0.007516    1.000000   \nTdewpoint    0.790661    -0.244098  0.036506   0.125972   -0.042190   \nrv1         -0.015216     0.000699  0.020441  -0.011342   -0.005889   \nrv2         -0.015216     0.000699  0.020441  -0.011342   -0.005889   \n\n             Tdewpoint       rv1       rv2  \nAppliances    0.015353 -0.011145 -0.011145  \nlights       -0.036322  0.000521  0.000521  \nT1            0.571309 -0.006203 -0.006203  \nRH_1          0.639106 -0.000699 -0.000699  \nT2            0.582602 -0.011087 -0.011087  \nRH_2          0.499152  0.006275  0.006275  \nT3            0.645886 -0.005194 -0.005194  \nRH_3          0.414387 -0.000477 -0.000477  \nT4            0.519471 -0.001815 -0.001815  \nRH_4          0.616509 -0.001787 -0.001787  \nT5            0.588362 -0.005490 -0.005490  \nRH_5          0.078175 -0.011056 -0.011056  \nT6            0.764242 -0.015086 -0.015086  \nRH_6         -0.260417  0.011671  0.011671  \nT7            0.466625 -0.003900 -0.003900  \nRH_7          0.641857  0.001820  0.001820  \nT8            0.391810 -0.003210 -0.003210  \nRH_8          0.501775  0.004480  0.004480  \nT9            0.581483 -0.001227 -0.001227  \nRH_9          0.540328 -0.002955 -0.002955  \nT_out         0.790661 -0.015216 -0.015216  \nPress_mm_hg  -0.244098  0.000699  0.000699  \nRH_out        0.036506  0.020441  0.020441  \nWindspeed     0.125972 -0.011342 -0.011342  \nVisibility   -0.042190 -0.005889 -0.005889  \nTdewpoint     1.000000 -0.003943 -0.003943  \nrv1          -0.003943  1.000000  1.000000  \nrv2          -0.003943  1.000000  1.000000  \n\n[28 rows x 28 columns]",
      "text/html": "<div>\n<style scoped>\n    .dataframe tbody tr th:only-of-type {\n        vertical-align: middle;\n    }\n\n    .dataframe tbody tr th {\n        vertical-align: top;\n    }\n\n    .dataframe thead th {\n        text-align: right;\n    }\n</style>\n<table border=\"1\" class=\"dataframe\">\n  <thead>\n    <tr style=\"text-align: right;\">\n      <th></th>\n      <th>Appliances</th>\n      <th>lights</th>\n      <th>T1</th>\n      <th>RH_1</th>\n      <th>T2</th>\n      <th>RH_2</th>\n      <th>T3</th>\n      <th>RH_3</th>\n      <th>T4</th>\n      <th>RH_4</th>\n      <th>...</th>\n      <th>T9</th>\n      <th>RH_9</th>\n      <th>T_out</th>\n      <th>Press_mm_hg</th>\n      <th>RH_out</th>\n      <th>Windspeed</th>\n      <th>Visibility</th>\n      <th>Tdewpoint</th>\n      <th>rv1</th>\n      <th>rv2</th>\n    </tr>\n  </thead>\n  <tbody>\n    <tr>\n      <td>Appliances</td>\n      <td>1.000000</td>\n      <td>0.197278</td>\n      <td>0.055447</td>\n      <td>0.086031</td>\n      <td>0.120073</td>\n      <td>-0.060465</td>\n      <td>0.085060</td>\n      <td>0.036292</td>\n      <td>0.040281</td>\n      <td>0.016965</td>\n      <td>...</td>\n      <td>0.010010</td>\n      <td>-0.051462</td>\n      <td>0.099155</td>\n      <td>-0.034885</td>\n      <td>-0.152282</td>\n      <td>0.087122</td>\n      <td>0.000230</td>\n      <td>0.015353</td>\n      <td>-0.011145</td>\n      <td>-0.011145</td>\n    </tr>\n    <tr>\n      <td>lights</td>\n      <td>0.197278</td>\n      <td>1.000000</td>\n      <td>-0.023528</td>\n      <td>0.106968</td>\n      <td>-0.005622</td>\n      <td>0.050985</td>\n      <td>-0.097393</td>\n      <td>0.131161</td>\n      <td>-0.008859</td>\n      <td>0.114936</td>\n      <td>...</td>\n      <td>-0.157592</td>\n      <td>-0.008766</td>\n      <td>-0.074424</td>\n      <td>-0.010576</td>\n      <td>0.068543</td>\n      <td>0.060281</td>\n      <td>0.020038</td>\n      <td>-0.036322</td>\n      <td>0.000521</td>\n      <td>0.000521</td>\n    </tr>\n    <tr>\n      <td>T1</td>\n      <td>0.055447</td>\n      <td>-0.023528</td>\n      <td>1.000000</td>\n      <td>0.164006</td>\n      <td>0.836834</td>\n      <td>-0.002509</td>\n      <td>0.892402</td>\n      <td>-0.028550</td>\n      <td>0.877001</td>\n      <td>0.097861</td>\n      <td>...</td>\n      <td>0.844777</td>\n      <td>0.071756</td>\n      <td>0.682846</td>\n      <td>-0.150574</td>\n      <td>-0.345481</td>\n      <td>-0.087654</td>\n      <td>-0.076210</td>\n      <td>0.571309</td>\n      <td>-0.006203</td>\n      <td>-0.006203</td>\n    </tr>\n    <tr>\n      <td>RH_1</td>\n      <td>0.086031</td>\n      <td>0.106968</td>\n      <td>0.164006</td>\n      <td>1.000000</td>\n      <td>0.269839</td>\n      <td>0.797535</td>\n      <td>0.253230</td>\n      <td>0.844677</td>\n      <td>0.106180</td>\n      <td>0.880359</td>\n      <td>...</td>\n      <td>0.115263</td>\n      <td>0.764001</td>\n      <td>0.340767</td>\n      <td>-0.293957</td>\n      <td>0.274126</td>\n      <td>0.204932</td>\n      <td>-0.021057</td>\n      <td>0.639106</td>\n      <td>-0.000699</td>\n      <td>-0.000699</td>\n    </tr>\n    <tr>\n      <td>T2</td>\n      <td>0.120073</td>\n      <td>-0.005622</td>\n      <td>0.836834</td>\n      <td>0.269839</td>\n      <td>1.000000</td>\n      <td>-0.165610</td>\n      <td>0.735245</td>\n      <td>0.121497</td>\n      <td>0.762066</td>\n      <td>0.231563</td>\n      <td>...</td>\n      <td>0.675535</td>\n      <td>0.157346</td>\n      <td>0.792255</td>\n      <td>-0.133028</td>\n      <td>-0.505291</td>\n      <td>0.052495</td>\n      <td>-0.069721</td>\n      <td>0.582602</td>\n      <td>-0.011087</td>\n      <td>-0.011087</td>\n    </tr>\n    <tr>\n      <td>RH_2</td>\n      <td>-0.060465</td>\n      <td>0.050985</td>\n      <td>-0.002509</td>\n      <td>0.797535</td>\n      <td>-0.165610</td>\n      <td>1.000000</td>\n      <td>0.137319</td>\n      <td>0.678326</td>\n      <td>-0.047304</td>\n      <td>0.721435</td>\n      <td>...</td>\n      <td>0.054544</td>\n      <td>0.676467</td>\n      <td>0.033674</td>\n      <td>-0.255646</td>\n      <td>0.584911</td>\n      <td>0.069190</td>\n      <td>-0.005368</td>\n      <td>0.499152</td>\n      <td>0.006275</td>\n      <td>0.006275</td>\n    </tr>\n    <tr>\n      <td>T3</td>\n      <td>0.085060</td>\n      <td>-0.097393</td>\n      <td>0.892402</td>\n      <td>0.253230</td>\n      <td>0.735245</td>\n      <td>0.137319</td>\n      <td>1.000000</td>\n      <td>-0.011234</td>\n      <td>0.852778</td>\n      <td>0.122737</td>\n      <td>...</td>\n      <td>0.901324</td>\n      <td>0.134602</td>\n      <td>0.699417</td>\n      <td>-0.189974</td>\n      <td>-0.281718</td>\n      <td>-0.100776</td>\n      <td>-0.102310</td>\n      <td>0.645886</td>\n      <td>-0.005194</td>\n      <td>-0.005194</td>\n    </tr>\n    <tr>\n      <td>RH_3</td>\n      <td>0.036292</td>\n      <td>0.131161</td>\n      <td>-0.028550</td>\n      <td>0.844677</td>\n      <td>0.121497</td>\n      <td>0.678326</td>\n      <td>-0.011234</td>\n      <td>1.000000</td>\n      <td>-0.140457</td>\n      <td>0.898978</td>\n      <td>...</td>\n      <td>-0.195270</td>\n      <td>0.833538</td>\n      <td>0.118207</td>\n      <td>-0.233274</td>\n      <td>0.356192</td>\n      <td>0.263188</td>\n      <td>0.017041</td>\n      <td>0.414387</td>\n      <td>-0.000477</td>\n      <td>-0.000477</td>\n    </tr>\n    <tr>\n      <td>T4</td>\n      <td>0.040281</td>\n      <td>-0.008859</td>\n      <td>0.877001</td>\n      <td>0.106180</td>\n      <td>0.762066</td>\n      <td>-0.047304</td>\n      <td>0.852778</td>\n      <td>-0.140457</td>\n      <td>1.000000</td>\n      <td>-0.048650</td>\n      <td>...</td>\n      <td>0.889439</td>\n      <td>-0.025549</td>\n      <td>0.663478</td>\n      <td>-0.075292</td>\n      <td>-0.388602</td>\n      <td>-0.185747</td>\n      <td>-0.104768</td>\n      <td>0.519471</td>\n      <td>-0.001815</td>\n      <td>-0.001815</td>\n    </tr>\n    <tr>\n      <td>RH_4</td>\n      <td>0.016965</td>\n      <td>0.114936</td>\n      <td>0.097861</td>\n      <td>0.880359</td>\n      <td>0.231563</td>\n      <td>0.721435</td>\n      <td>0.122737</td>\n      <td>0.898978</td>\n      <td>-0.048650</td>\n      <td>1.000000</td>\n      <td>...</td>\n      <td>-0.044518</td>\n      <td>0.856591</td>\n      <td>0.293289</td>\n      <td>-0.250748</td>\n      <td>0.336813</td>\n      <td>0.300192</td>\n      <td>0.002636</td>\n      <td>0.616509</td>\n      <td>-0.001787</td>\n      <td>-0.001787</td>\n    </tr>\n    <tr>\n      <td>T5</td>\n      <td>0.019760</td>\n      <td>-0.078745</td>\n      <td>0.885247</td>\n      <td>0.205797</td>\n      <td>0.720550</td>\n      <td>0.110409</td>\n      <td>0.888169</td>\n      <td>-0.050062</td>\n      <td>0.871813</td>\n      <td>0.091812</td>\n      <td>...</td>\n      <td>0.911055</td>\n      <td>0.072308</td>\n      <td>0.651321</td>\n      <td>-0.170999</td>\n      <td>-0.273953</td>\n      <td>-0.145011</td>\n      <td>-0.084164</td>\n      <td>0.588362</td>\n      <td>-0.005490</td>\n      <td>-0.005490</td>\n    </tr>\n    <tr>\n      <td>RH_5</td>\n      <td>0.006955</td>\n      <td>0.141233</td>\n      <td>-0.014782</td>\n      <td>0.303258</td>\n      <td>0.029595</td>\n      <td>0.250271</td>\n      <td>-0.066355</td>\n      <td>0.375422</td>\n      <td>-0.076489</td>\n      <td>0.352591</td>\n      <td>...</td>\n      <td>-0.138509</td>\n      <td>0.272197</td>\n      <td>-0.053126</td>\n      <td>-0.119327</td>\n      <td>0.185941</td>\n      <td>0.082044</td>\n      <td>-0.013133</td>\n      <td>0.078175</td>\n      <td>-0.011056</td>\n      <td>-0.011056</td>\n    </tr>\n    <tr>\n      <td>T6</td>\n      <td>0.117638</td>\n      <td>-0.079029</td>\n      <td>0.654769</td>\n      <td>0.316141</td>\n      <td>0.801186</td>\n      <td>-0.009670</td>\n      <td>0.686882</td>\n      <td>0.076833</td>\n      <td>0.652350</td>\n      <td>0.259047</td>\n      <td>...</td>\n      <td>0.667177</td>\n      <td>0.184424</td>\n      <td>0.974787</td>\n      <td>-0.141643</td>\n      <td>-0.569119</td>\n      <td>0.169185</td>\n      <td>-0.081313</td>\n      <td>0.764242</td>\n      <td>-0.015086</td>\n      <td>-0.015086</td>\n    </tr>\n    <tr>\n      <td>RH_6</td>\n      <td>-0.083178</td>\n      <td>0.153756</td>\n      <td>-0.615045</td>\n      <td>0.245126</td>\n      <td>-0.580372</td>\n      <td>0.389933</td>\n      <td>-0.647672</td>\n      <td>0.514912</td>\n      <td>-0.703149</td>\n      <td>0.392178</td>\n      <td>...</td>\n      <td>-0.738940</td>\n      <td>0.391943</td>\n      <td>-0.641572</td>\n      <td>-0.065814</td>\n      <td>0.718587</td>\n      <td>0.098317</td>\n      <td>0.108705</td>\n      <td>-0.260417</td>\n      <td>0.011671</td>\n      <td>0.011671</td>\n    </tr>\n    <tr>\n      <td>T7</td>\n      <td>0.025801</td>\n      <td>-0.135347</td>\n      <td>0.838705</td>\n      <td>0.021397</td>\n      <td>0.663660</td>\n      <td>-0.051422</td>\n      <td>0.847374</td>\n      <td>-0.250090</td>\n      <td>0.877763</td>\n      <td>-0.131204</td>\n      <td>...</td>\n      <td>0.944776</td>\n      <td>-0.077690</td>\n      <td>0.631293</td>\n      <td>-0.097724</td>\n      <td>-0.411213</td>\n      <td>-0.185892</td>\n      <td>-0.110089</td>\n      <td>0.466625</td>\n      <td>-0.003900</td>\n      <td>-0.003900</td>\n    </tr>\n    <tr>\n      <td>RH_7</td>\n      <td>-0.055642</td>\n      <td>0.035069</td>\n      <td>0.135182</td>\n      <td>0.801122</td>\n      <td>0.229212</td>\n      <td>0.690584</td>\n      <td>0.172624</td>\n      <td>0.832685</td>\n      <td>0.043527</td>\n      <td>0.894301</td>\n      <td>...</td>\n      <td>0.028055</td>\n      <td>0.858686</td>\n      <td>0.294199</td>\n      <td>-0.265850</td>\n      <td>0.378519</td>\n      <td>0.212979</td>\n      <td>-0.007184</td>\n      <td>0.641857</td>\n      <td>0.001820</td>\n      <td>0.001820</td>\n    </tr>\n    <tr>\n      <td>T8</td>\n      <td>0.039572</td>\n      <td>-0.071458</td>\n      <td>0.825413</td>\n      <td>-0.030053</td>\n      <td>0.578191</td>\n      <td>-0.041023</td>\n      <td>0.795283</td>\n      <td>-0.283228</td>\n      <td>0.796256</td>\n      <td>-0.167066</td>\n      <td>...</td>\n      <td>0.869338</td>\n      <td>-0.156820</td>\n      <td>0.502842</td>\n      <td>-0.162855</td>\n      <td>-0.300438</td>\n      <td>-0.218876</td>\n      <td>-0.060098</td>\n      <td>0.391810</td>\n      <td>-0.003210</td>\n      <td>-0.003210</td>\n    </tr>\n    <tr>\n      <td>RH_8</td>\n      <td>-0.094039</td>\n      <td>0.012915</td>\n      <td>-0.006441</td>\n      <td>0.736196</td>\n      <td>0.068534</td>\n      <td>0.679777</td>\n      <td>0.044427</td>\n      <td>0.828822</td>\n      <td>-0.095192</td>\n      <td>0.847259</td>\n      <td>...</td>\n      <td>-0.113014</td>\n      <td>0.855812</td>\n      <td>0.117141</td>\n      <td>-0.225591</td>\n      <td>0.487355</td>\n      <td>0.202380</td>\n      <td>0.046178</td>\n      <td>0.501775</td>\n      <td>0.004480</td>\n      <td>0.004480</td>\n    </tr>\n    <tr>\n      <td>T9</td>\n      <td>0.010010</td>\n      <td>-0.157592</td>\n      <td>0.844777</td>\n      <td>0.115263</td>\n      <td>0.675535</td>\n      <td>0.054544</td>\n      <td>0.901324</td>\n      <td>-0.195270</td>\n      <td>0.889439</td>\n      <td>-0.044518</td>\n      <td>...</td>\n      <td>1.000000</td>\n      <td>-0.008683</td>\n      <td>0.668220</td>\n      <td>-0.156828</td>\n      <td>-0.318848</td>\n      <td>-0.177756</td>\n      <td>-0.103915</td>\n      <td>0.581483</td>\n      <td>-0.001227</td>\n      <td>-0.001227</td>\n    </tr>\n    <tr>\n      <td>RH_9</td>\n      <td>-0.051462</td>\n      <td>-0.008766</td>\n      <td>0.071756</td>\n      <td>0.764001</td>\n      <td>0.157346</td>\n      <td>0.676467</td>\n      <td>0.134602</td>\n      <td>0.833538</td>\n      <td>-0.025549</td>\n      <td>0.856591</td>\n      <td>...</td>\n      <td>-0.008683</td>\n      <td>1.000000</td>\n      <td>0.223270</td>\n      <td>-0.183739</td>\n      <td>0.359377</td>\n      <td>0.238655</td>\n      <td>0.008667</td>\n      <td>0.540328</td>\n      <td>-0.002955</td>\n      <td>-0.002955</td>\n    </tr>\n    <tr>\n      <td>T_out</td>\n      <td>0.099155</td>\n      <td>-0.074424</td>\n      <td>0.682846</td>\n      <td>0.340767</td>\n      <td>0.792255</td>\n      <td>0.033674</td>\n      <td>0.699417</td>\n      <td>0.118207</td>\n      <td>0.663478</td>\n      <td>0.293289</td>\n      <td>...</td>\n      <td>0.668220</td>\n      <td>0.223270</td>\n      <td>1.000000</td>\n      <td>-0.143249</td>\n      <td>-0.574197</td>\n      <td>0.192936</td>\n      <td>-0.077367</td>\n      <td>0.790661</td>\n      <td>-0.015216</td>\n      <td>-0.015216</td>\n    </tr>\n    <tr>\n      <td>Press_mm_hg</td>\n      <td>-0.034885</td>\n      <td>-0.010576</td>\n      <td>-0.150574</td>\n      <td>-0.293957</td>\n      <td>-0.133028</td>\n      <td>-0.255646</td>\n      <td>-0.189974</td>\n      <td>-0.233274</td>\n      <td>-0.075292</td>\n      <td>-0.250748</td>\n      <td>...</td>\n      <td>-0.156828</td>\n      <td>-0.183739</td>\n      <td>-0.143249</td>\n      <td>1.000000</td>\n      <td>-0.092017</td>\n      <td>-0.235032</td>\n      <td>0.040315</td>\n      <td>-0.244098</td>\n      <td>0.000699</td>\n      <td>0.000699</td>\n    </tr>\n    <tr>\n      <td>RH_out</td>\n      <td>-0.152282</td>\n      <td>0.068543</td>\n      <td>-0.345481</td>\n      <td>0.274126</td>\n      <td>-0.505291</td>\n      <td>0.584911</td>\n      <td>-0.281718</td>\n      <td>0.356192</td>\n      <td>-0.388602</td>\n      <td>0.336813</td>\n      <td>...</td>\n      <td>-0.318848</td>\n      <td>0.359377</td>\n      <td>-0.574197</td>\n      <td>-0.092017</td>\n      <td>1.000000</td>\n      <td>-0.176458</td>\n      <td>0.083125</td>\n      <td>0.036506</td>\n      <td>0.020441</td>\n      <td>0.020441</td>\n    </tr>\n    <tr>\n      <td>Windspeed</td>\n      <td>0.087122</td>\n      <td>0.060281</td>\n      <td>-0.087654</td>\n      <td>0.204932</td>\n      <td>0.052495</td>\n      <td>0.069190</td>\n      <td>-0.100776</td>\n      <td>0.263188</td>\n      <td>-0.185747</td>\n      <td>0.300192</td>\n      <td>...</td>\n      <td>-0.177756</td>\n      <td>0.238655</td>\n      <td>0.192936</td>\n      <td>-0.235032</td>\n      <td>-0.176458</td>\n      <td>1.000000</td>\n      <td>-0.007516</td>\n      <td>0.125972</td>\n      <td>-0.011342</td>\n      <td>-0.011342</td>\n    </tr>\n    <tr>\n      <td>Visibility</td>\n      <td>0.000230</td>\n      <td>0.020038</td>\n      <td>-0.076210</td>\n      <td>-0.021057</td>\n      <td>-0.069721</td>\n      <td>-0.005368</td>\n      <td>-0.102310</td>\n      <td>0.017041</td>\n      <td>-0.104768</td>\n      <td>0.002636</td>\n      <td>...</td>\n      <td>-0.103915</td>\n      <td>0.008667</td>\n      <td>-0.077367</td>\n      <td>0.040315</td>\n      <td>0.083125</td>\n      <td>-0.007516</td>\n      <td>1.000000</td>\n      <td>-0.042190</td>\n      <td>-0.005889</td>\n      <td>-0.005889</td>\n    </tr>\n    <tr>\n      <td>Tdewpoint</td>\n      <td>0.015353</td>\n      <td>-0.036322</td>\n      <td>0.571309</td>\n      <td>0.639106</td>\n      <td>0.582602</td>\n      <td>0.499152</td>\n      <td>0.645886</td>\n      <td>0.414387</td>\n      <td>0.519471</td>\n      <td>0.616509</td>\n      <td>...</td>\n      <td>0.581483</td>\n      <td>0.540328</td>\n      <td>0.790661</td>\n      <td>-0.244098</td>\n      <td>0.036506</td>\n      <td>0.125972</td>\n      <td>-0.042190</td>\n      <td>1.000000</td>\n      <td>-0.003943</td>\n      <td>-0.003943</td>\n    </tr>\n    <tr>\n      <td>rv1</td>\n      <td>-0.011145</td>\n      <td>0.000521</td>\n      <td>-0.006203</td>\n      <td>-0.000699</td>\n      <td>-0.011087</td>\n      <td>0.006275</td>\n      <td>-0.005194</td>\n      <td>-0.000477</td>\n      <td>-0.001815</td>\n      <td>-0.001787</td>\n      <td>...</td>\n      <td>-0.001227</td>\n      <td>-0.002955</td>\n      <td>-0.015216</td>\n      <td>0.000699</td>\n      <td>0.020441</td>\n      <td>-0.011342</td>\n      <td>-0.005889</td>\n      <td>-0.003943</td>\n      <td>1.000000</td>\n      <td>1.000000</td>\n    </tr>\n    <tr>\n      <td>rv2</td>\n      <td>-0.011145</td>\n      <td>0.000521</td>\n      <td>-0.006203</td>\n      <td>-0.000699</td>\n      <td>-0.011087</td>\n      <td>0.006275</td>\n      <td>-0.005194</td>\n      <td>-0.000477</td>\n      <td>-0.001815</td>\n      <td>-0.001787</td>\n      <td>...</td>\n      <td>-0.001227</td>\n      <td>-0.002955</td>\n      <td>-0.015216</td>\n      <td>0.000699</td>\n      <td>0.020441</td>\n      <td>-0.011342</td>\n      <td>-0.005889</td>\n      <td>-0.003943</td>\n      <td>1.000000</td>\n      <td>1.000000</td>\n    </tr>\n  </tbody>\n</table>\n<p>28 rows × 28 columns</p>\n</div>"
     },
     "metadata": {},
     "execution_count": 6
    }
   ],
   "source": [
    "df.corr()"
   ]
  },
  {
   "cell_type": "code",
   "execution_count": 7,
   "metadata": {},
   "outputs": [],
   "source": [
    "df_without_lights_and_date = df.drop(columns=['lights', 'date'])"
   ]
  },
  {
   "cell_type": "code",
   "execution_count": 8,
   "metadata": {},
   "outputs": [],
   "source": [
    "scaler = MinMaxScaler()\n",
    "normalised_df = pd.DataFrame(scaler.fit_transform(df_without_lights_and_date), columns=df_without_lights_and_date.columns)"
   ]
  },
  {
   "cell_type": "code",
   "execution_count": 9,
   "metadata": {},
   "outputs": [
    {
     "output_type": "execute_result",
     "data": {
      "text/plain": "   Appliances       T1      RH_1        T2      RH_2        T3      RH_3  \\\n0    0.046729  0.32735  0.566187  0.225345  0.684038  0.215188  0.746066   \n1    0.046729  0.32735  0.541326  0.225345  0.682140  0.215188  0.748871   \n2    0.037383  0.32735  0.530502  0.225345  0.679445  0.215188  0.755569   \n\n         T4      RH_4        T5  ...        T9      RH_9     T_out  \\\n0  0.351351  0.764262  0.175506  ...  0.223032  0.677290  0.372990   \n1  0.351351  0.782437  0.175506  ...  0.226500  0.678532  0.369239   \n2  0.344745  0.778062  0.175506  ...  0.219563  0.676049  0.365488   \n\n   Press_mm_hg    RH_out  Windspeed  Visibility  Tdewpoint       rv1       rv2  \n0     0.097674  0.894737   0.500000    0.953846   0.538462  0.265449  0.265449  \n1     0.100000  0.894737   0.476190    0.894872   0.533937  0.372083  0.372083  \n2     0.102326  0.894737   0.452381    0.835897   0.529412  0.572848  0.572848  \n\n[3 rows x 27 columns]",
      "text/html": "<div>\n<style scoped>\n    .dataframe tbody tr th:only-of-type {\n        vertical-align: middle;\n    }\n\n    .dataframe tbody tr th {\n        vertical-align: top;\n    }\n\n    .dataframe thead th {\n        text-align: right;\n    }\n</style>\n<table border=\"1\" class=\"dataframe\">\n  <thead>\n    <tr style=\"text-align: right;\">\n      <th></th>\n      <th>Appliances</th>\n      <th>T1</th>\n      <th>RH_1</th>\n      <th>T2</th>\n      <th>RH_2</th>\n      <th>T3</th>\n      <th>RH_3</th>\n      <th>T4</th>\n      <th>RH_4</th>\n      <th>T5</th>\n      <th>...</th>\n      <th>T9</th>\n      <th>RH_9</th>\n      <th>T_out</th>\n      <th>Press_mm_hg</th>\n      <th>RH_out</th>\n      <th>Windspeed</th>\n      <th>Visibility</th>\n      <th>Tdewpoint</th>\n      <th>rv1</th>\n      <th>rv2</th>\n    </tr>\n  </thead>\n  <tbody>\n    <tr>\n      <td>0</td>\n      <td>0.046729</td>\n      <td>0.32735</td>\n      <td>0.566187</td>\n      <td>0.225345</td>\n      <td>0.684038</td>\n      <td>0.215188</td>\n      <td>0.746066</td>\n      <td>0.351351</td>\n      <td>0.764262</td>\n      <td>0.175506</td>\n      <td>...</td>\n      <td>0.223032</td>\n      <td>0.677290</td>\n      <td>0.372990</td>\n      <td>0.097674</td>\n      <td>0.894737</td>\n      <td>0.500000</td>\n      <td>0.953846</td>\n      <td>0.538462</td>\n      <td>0.265449</td>\n      <td>0.265449</td>\n    </tr>\n    <tr>\n      <td>1</td>\n      <td>0.046729</td>\n      <td>0.32735</td>\n      <td>0.541326</td>\n      <td>0.225345</td>\n      <td>0.682140</td>\n      <td>0.215188</td>\n      <td>0.748871</td>\n      <td>0.351351</td>\n      <td>0.782437</td>\n      <td>0.175506</td>\n      <td>...</td>\n      <td>0.226500</td>\n      <td>0.678532</td>\n      <td>0.369239</td>\n      <td>0.100000</td>\n      <td>0.894737</td>\n      <td>0.476190</td>\n      <td>0.894872</td>\n      <td>0.533937</td>\n      <td>0.372083</td>\n      <td>0.372083</td>\n    </tr>\n    <tr>\n      <td>2</td>\n      <td>0.037383</td>\n      <td>0.32735</td>\n      <td>0.530502</td>\n      <td>0.225345</td>\n      <td>0.679445</td>\n      <td>0.215188</td>\n      <td>0.755569</td>\n      <td>0.344745</td>\n      <td>0.778062</td>\n      <td>0.175506</td>\n      <td>...</td>\n      <td>0.219563</td>\n      <td>0.676049</td>\n      <td>0.365488</td>\n      <td>0.102326</td>\n      <td>0.894737</td>\n      <td>0.452381</td>\n      <td>0.835897</td>\n      <td>0.529412</td>\n      <td>0.572848</td>\n      <td>0.572848</td>\n    </tr>\n  </tbody>\n</table>\n<p>3 rows × 27 columns</p>\n</div>"
     },
     "metadata": {},
     "execution_count": 9
    }
   ],
   "source": [
    "normalised_df.head(3)"
   ]
  },
  {
   "cell_type": "markdown",
   "metadata": {},
   "source": [
    "### From the data set, fit a linear model on the relationship between the temperature in the living room in Celsius (x = T2) and the temperature outside the building (y = T6). What is the R^2 value in two D.P?"
   ]
  },
  {
   "cell_type": "code",
   "execution_count": 10,
   "metadata": {},
   "outputs": [
    {
     "output_type": "execute_result",
     "data": {
      "text/plain": "<matplotlib.axes._subplots.AxesSubplot at 0x25c8a183e48>"
     },
     "metadata": {},
     "execution_count": 10
    },
    {
     "output_type": "display_data",
     "data": {
      "text/plain": "<Figure size 432x288 with 1 Axes>",
      "image/svg+xml": "<?xml version=\"1.0\" encoding=\"utf-8\" standalone=\"no\"?>\r\n<!DOCTYPE svg PUBLIC \"-//W3C//DTD SVG 1.1//EN\"\r\n  \"http://www.w3.org/Graphics/SVG/1.1/DTD/svg11.dtd\">\r\n<!-- Created with matplotlib (https://matplotlib.org/) -->\r\n<svg height=\"262.19625pt\" version=\"1.1\" viewBox=\"0 0 382.603125 262.19625\" width=\"382.603125pt\" xmlns=\"http://www.w3.org/2000/svg\" xmlns:xlink=\"http://www.w3.org/1999/xlink\">\r\n <defs>\r\n  <style type=\"text/css\">\r\n*{stroke-linecap:butt;stroke-linejoin:round;}\r\n  </style>\r\n </defs>\r\n <g id=\"figure_1\">\r\n  <g id=\"patch_1\">\r\n   <path d=\"M 0 262.19625 \r\nL 382.603125 262.19625 \r\nL 382.603125 0 \r\nL 0 0 \r\nz\r\n\" style=\"fill:none;\"/>\r\n  </g>\r\n  <g id=\"axes_1\">\r\n   <g id=\"patch_2\">\r\n    <path d=\"M 40.603125 224.64 \r\nL 375.403125 224.64 \r\nL 375.403125 7.2 \r\nL 40.603125 7.2 \r\nz\r\n\" style=\"fill:#ffffff;\"/>\r\n   </g>\r\n   <g id=\"PathCollection_1\">\r\n    <defs>\r\n     <path d=\"M 0 3 \r\nC 0.795609 3 1.55874 2.683901 2.12132 2.12132 \r\nC 2.683901 1.55874 3 0.795609 3 0 \r\nC 3 -0.795609 2.683901 -1.55874 2.12132 -2.12132 \r\nC 1.55874 -2.683901 0.795609 -3 0 -3 \r\nC -0.795609 -3 -1.55874 -2.683901 -2.12132 -2.12132 \r\nC -2.683901 -1.55874 -3 -0.795609 -3 0 \r\nC -3 0.795609 -2.683901 1.55874 -2.12132 2.12132 \r\nC -1.55874 2.683901 -0.795609 3 0 3 \r\nz\r\n\" id=\"mf2ff8c72e8\" style=\"stroke:#1f77b4;stroke-opacity:0.8;\"/>\r\n    </defs>\r\n    <g clip-path=\"url(#p9e3dec2b24)\">\r\n     <use style=\"fill:#1f77b4;fill-opacity:0.8;stroke:#1f77b4;stroke-opacity:0.8;\" x=\"86.221723\" xlink:href=\"#mf2ff8c72e8\" y=\"187.681749\"/>\r\n     <use style=\"fill:#1f77b4;fill-opacity:0.8;stroke:#1f77b4;stroke-opacity:0.8;\" x=\"181.552324\" xlink:href=\"#mf2ff8c72e8\" y=\"118.73443\"/>\r\n     <use style=\"fill:#1f77b4;fill-opacity:0.8;stroke:#1f77b4;stroke-opacity:0.8;\" x=\"265.752046\" xlink:href=\"#mf2ff8c72e8\" y=\"101.478871\"/>\r\n     <use style=\"fill:#1f77b4;fill-opacity:0.8;stroke:#1f77b4;stroke-opacity:0.8;\" x=\"79.39957\" xlink:href=\"#mf2ff8c72e8\" y=\"186.383212\"/>\r\n     <use style=\"fill:#1f77b4;fill-opacity:0.8;stroke:#1f77b4;stroke-opacity:0.8;\" x=\"129.668061\" xlink:href=\"#mf2ff8c72e8\" y=\"171.649812\"/>\r\n     <use style=\"fill:#1f77b4;fill-opacity:0.8;stroke:#1f77b4;stroke-opacity:0.8;\" x=\"140.080819\" xlink:href=\"#mf2ff8c72e8\" y=\"153.170632\"/>\r\n     <use style=\"fill:#1f77b4;fill-opacity:0.8;stroke:#1f77b4;stroke-opacity:0.8;\" x=\"125.718394\" xlink:href=\"#mf2ff8c72e8\" y=\"157.415849\"/>\r\n     <use style=\"fill:#1f77b4;fill-opacity:0.8;stroke:#1f77b4;stroke-opacity:0.8;\" x=\"258.929893\" xlink:href=\"#mf2ff8c72e8\" y=\"98.307444\"/>\r\n     <use style=\"fill:#1f77b4;fill-opacity:0.8;stroke:#1f77b4;stroke-opacity:0.8;\" x=\"133.258667\" xlink:href=\"#mf2ff8c72e8\" y=\"117.485837\"/>\r\n     <use style=\"fill:#1f77b4;fill-opacity:0.8;stroke:#1f77b4;stroke-opacity:0.8;\" x=\"69.465559\" xlink:href=\"#mf2ff8c72e8\" y=\"172.948349\"/>\r\n     <use style=\"fill:#1f77b4;fill-opacity:0.8;stroke:#1f77b4;stroke-opacity:0.8;\" x=\"118.896241\" xlink:href=\"#mf2ff8c72e8\" y=\"187.938603\"/>\r\n     <use style=\"fill:#1f77b4;fill-opacity:0.8;stroke:#1f77b4;stroke-opacity:0.8;\" x=\"152.408568\" xlink:href=\"#mf2ff8c72e8\" y=\"151.722264\"/>\r\n     <use style=\"fill:#1f77b4;fill-opacity:0.8;stroke:#1f77b4;stroke-opacity:0.8;\" x=\"172.515964\" xlink:href=\"#mf2ff8c72e8\" y=\"130.109114\"/>\r\n     <use style=\"fill:#1f77b4;fill-opacity:0.8;stroke:#1f77b4;stroke-opacity:0.8;\" x=\"147.621093\" xlink:href=\"#mf2ff8c72e8\" y=\"211.854514\"/>\r\n     <use style=\"fill:#1f77b4;fill-opacity:0.8;stroke:#1f77b4;stroke-opacity:0.8;\" x=\"205.070796\" xlink:href=\"#mf2ff8c72e8\" y=\"102.502718\"/>\r\n     <use style=\"fill:#1f77b4;fill-opacity:0.8;stroke:#1f77b4;stroke-opacity:0.8;\" x=\"105.371624\" xlink:href=\"#mf2ff8c72e8\" y=\"195.173309\"/>\r\n     <use style=\"fill:#1f77b4;fill-opacity:0.8;stroke:#1f77b4;stroke-opacity:0.8;\" x=\"187.117764\" xlink:href=\"#mf2ff8c72e8\" y=\"161.461291\"/>\r\n     <use style=\"fill:#1f77b4;fill-opacity:0.8;stroke:#1f77b4;stroke-opacity:0.8;\" x=\"118.896241\" xlink:href=\"#mf2ff8c72e8\" y=\"172.673658\"/>\r\n     <use style=\"fill:#1f77b4;fill-opacity:0.8;stroke:#1f77b4;stroke-opacity:0.8;\" x=\"323.201749\" xlink:href=\"#mf2ff8c72e8\" y=\"84.410602\"/>\r\n     <use style=\"fill:#1f77b4;fill-opacity:0.8;stroke:#1f77b4;stroke-opacity:0.8;\" x=\"133.258667\" xlink:href=\"#mf2ff8c72e8\" y=\"139.598423\"/>\r\n     <use style=\"fill:#1f77b4;fill-opacity:0.8;stroke:#1f77b4;stroke-opacity:0.8;\" x=\"146.304537\" xlink:href=\"#mf2ff8c72e8\" y=\"176.388223\"/>\r\n     <use style=\"fill:#1f77b4;fill-opacity:0.8;stroke:#1f77b4;stroke-opacity:0.8;\" x=\"227.691617\" xlink:href=\"#mf2ff8c72e8\" y=\"107.2224\"/>\r\n     <use style=\"fill:#1f77b4;fill-opacity:0.8;stroke:#1f77b4;stroke-opacity:0.8;\" x=\"111.715028\" xlink:href=\"#mf2ff8c72e8\" y=\"147.976484\"/>\r\n     <use style=\"fill:#1f77b4;fill-opacity:0.8;stroke:#1f77b4;stroke-opacity:0.8;\" x=\"172.755338\" xlink:href=\"#mf2ff8c72e8\" y=\"162.485137\"/>\r\n     <use style=\"fill:#1f77b4;fill-opacity:0.8;stroke:#1f77b4;stroke-opacity:0.8;\" x=\"136.849274\" xlink:href=\"#mf2ff8c72e8\" y=\"161.960728\"/>\r\n     <use style=\"fill:#1f77b4;fill-opacity:0.8;stroke:#1f77b4;stroke-opacity:0.8;\" x=\"169.164732\" xlink:href=\"#mf2ff8c72e8\" y=\"148.700668\"/>\r\n     <use style=\"fill:#1f77b4;fill-opacity:0.8;stroke:#1f77b4;stroke-opacity:0.8;\" x=\"207.464534\" xlink:href=\"#mf2ff8c72e8\" y=\"83.570477\"/>\r\n     <use style=\"fill:#1f77b4;fill-opacity:0.8;stroke:#1f77b4;stroke-opacity:0.8;\" x=\"154.802306\" xlink:href=\"#mf2ff8c72e8\" y=\"131.195391\"/>\r\n     <use style=\"fill:#1f77b4;fill-opacity:0.8;stroke:#1f77b4;stroke-opacity:0.8;\" x=\"68.26869\" xlink:href=\"#mf2ff8c72e8\" y=\"184.660153\"/>\r\n     <use style=\"fill:#1f77b4;fill-opacity:0.8;stroke:#1f77b4;stroke-opacity:0.8;\" x=\"283.705078\" xlink:href=\"#mf2ff8c72e8\" y=\"70.588674\"/>\r\n     <use style=\"fill:#1f77b4;fill-opacity:0.8;stroke:#1f77b4;stroke-opacity:0.8;\" x=\"198.847079\" xlink:href=\"#mf2ff8c72e8\" y=\"155.468043\"/>\r\n     <use style=\"fill:#1f77b4;fill-opacity:0.8;stroke:#1f77b4;stroke-opacity:0.8;\" x=\"100.943209\" xlink:href=\"#mf2ff8c72e8\" y=\"196.12224\"/>\r\n     <use style=\"fill:#1f77b4;fill-opacity:0.8;stroke:#1f77b4;stroke-opacity:0.8;\" x=\"359.466874\" xlink:href=\"#mf2ff8c72e8\" y=\"83.998566\"/>\r\n     <use style=\"fill:#1f77b4;fill-opacity:0.8;stroke:#1f77b4;stroke-opacity:0.8;\" x=\"87.418591\" xlink:href=\"#mf2ff8c72e8\" y=\"167.154876\"/>\r\n     <use style=\"fill:#1f77b4;fill-opacity:0.8;stroke:#1f77b4;stroke-opacity:0.8;\" x=\"61.446538\" xlink:href=\"#mf2ff8c72e8\" y=\"205.36183\"/>\r\n     <use style=\"fill:#1f77b4;fill-opacity:0.8;stroke:#1f77b4;stroke-opacity:0.8;\" x=\"96.155734\" xlink:href=\"#mf2ff8c72e8\" y=\"191.371342\"/>\r\n     <use style=\"fill:#1f77b4;fill-opacity:0.8;stroke:#1f77b4;stroke-opacity:0.8;\" x=\"244.567467\" xlink:href=\"#mf2ff8c72e8\" y=\"113.964804\"/>\r\n     <use style=\"fill:#1f77b4;fill-opacity:0.8;stroke:#1f77b4;stroke-opacity:0.8;\" x=\"82.990177\" xlink:href=\"#mf2ff8c72e8\" y=\"195.622802\"/>\r\n     <use style=\"fill:#1f77b4;fill-opacity:0.8;stroke:#1f77b4;stroke-opacity:0.8;\" x=\"208.661403\" xlink:href=\"#mf2ff8c72e8\" y=\"116.447721\"/>\r\n     <use style=\"fill:#1f77b4;fill-opacity:0.8;stroke:#1f77b4;stroke-opacity:0.8;\" x=\"190.708371\" xlink:href=\"#mf2ff8c72e8\" y=\"93.063353\"/>\r\n     <use style=\"fill:#1f77b4;fill-opacity:0.8;stroke:#1f77b4;stroke-opacity:0.8;\" x=\"172.755338\" xlink:href=\"#mf2ff8c72e8\" y=\"119.958051\"/>\r\n     <use style=\"fill:#1f77b4;fill-opacity:0.8;stroke:#1f77b4;stroke-opacity:0.8;\" x=\"151.2117\" xlink:href=\"#mf2ff8c72e8\" y=\"120.007995\"/>\r\n     <use style=\"fill:#1f77b4;fill-opacity:0.8;stroke:#1f77b4;stroke-opacity:0.8;\" x=\"79.39957\" xlink:href=\"#mf2ff8c72e8\" y=\"158.989076\"/>\r\n     <use style=\"fill:#1f77b4;fill-opacity:0.8;stroke:#1f77b4;stroke-opacity:0.8;\" x=\"341.154781\" xlink:href=\"#mf2ff8c72e8\" y=\"19.346407\"/>\r\n     <use style=\"fill:#1f77b4;fill-opacity:0.8;stroke:#1f77b4;stroke-opacity:0.8;\" x=\"275.686057\" xlink:href=\"#mf2ff8c72e8\" y=\"74.80892\"/>\r\n     <use style=\"fill:#1f77b4;fill-opacity:0.8;stroke:#1f77b4;stroke-opacity:0.8;\" x=\"65.037145\" xlink:href=\"#mf2ff8c72e8\" y=\"214.276785\"/>\r\n     <use style=\"fill:#1f77b4;fill-opacity:0.8;stroke:#1f77b4;stroke-opacity:0.8;\" x=\"167.967863\" xlink:href=\"#mf2ff8c72e8\" y=\"142.792325\"/>\r\n     <use style=\"fill:#1f77b4;fill-opacity:0.8;stroke:#1f77b4;stroke-opacity:0.8;\" x=\"85.144541\" xlink:href=\"#mf2ff8c72e8\" y=\"177.643059\"/>\r\n     <use style=\"fill:#1f77b4;fill-opacity:0.8;stroke:#1f77b4;stroke-opacity:0.8;\" x=\"61.446538\" xlink:href=\"#mf2ff8c72e8\" y=\"201.61605\"/>\r\n     <use style=\"fill:#1f77b4;fill-opacity:0.8;stroke:#1f77b4;stroke-opacity:0.8;\" x=\"56.539376\" xlink:href=\"#mf2ff8c72e8\" y=\"138.68695\"/>\r\n    </g>\r\n   </g>\r\n   <g id=\"PolyCollection_1\">\r\n    <path clip-path=\"url(#p9e3dec2b24)\" d=\"M 40.603125 189.677062 \r\nL 40.603125 214.756364 \r\nL 43.984943 212.855918 \r\nL 47.366761 210.981281 \r\nL 50.74858 209.112921 \r\nL 54.130398 207.287986 \r\nL 57.512216 205.433611 \r\nL 60.894034 203.584658 \r\nL 64.275852 201.690382 \r\nL 67.65767 199.81987 \r\nL 71.039489 197.948079 \r\nL 74.421307 196.076854 \r\nL 77.803125 194.190696 \r\nL 81.184943 192.285252 \r\nL 84.566761 190.358514 \r\nL 87.94858 188.456891 \r\nL 91.330398 186.510742 \r\nL 94.712216 184.636685 \r\nL 98.094034 182.754092 \r\nL 101.475852 180.91783 \r\nL 104.85767 179.037393 \r\nL 108.239489 177.261114 \r\nL 111.621307 175.459193 \r\nL 115.003125 173.589887 \r\nL 118.384943 171.703509 \r\nL 121.766761 169.904865 \r\nL 125.14858 168.204221 \r\nL 128.530398 166.53706 \r\nL 131.912216 164.663167 \r\nL 135.294034 162.950818 \r\nL 138.675852 161.121097 \r\nL 142.05767 159.346472 \r\nL 145.439489 157.697056 \r\nL 148.821307 155.927093 \r\nL 152.203125 154.251632 \r\nL 155.584943 152.440919 \r\nL 158.966761 150.687306 \r\nL 162.34858 148.977604 \r\nL 165.730398 147.463387 \r\nL 169.112216 146.009514 \r\nL 172.494034 144.631867 \r\nL 175.875852 143.028457 \r\nL 179.25767 141.583116 \r\nL 182.639489 140.111429 \r\nL 186.021307 138.600376 \r\nL 189.403125 137.193333 \r\nL 192.784943 135.670565 \r\nL 196.166761 134.305721 \r\nL 199.54858 132.911495 \r\nL 202.930398 131.464795 \r\nL 206.312216 129.959551 \r\nL 209.694034 128.575344 \r\nL 213.075852 127.091554 \r\nL 216.45767 125.535809 \r\nL 219.839489 124.096632 \r\nL 223.221307 122.700448 \r\nL 226.603125 121.257431 \r\nL 229.984943 119.902096 \r\nL 233.366761 118.456196 \r\nL 236.74858 117.012336 \r\nL 240.130398 115.635421 \r\nL 243.512216 114.346983 \r\nL 246.894034 112.86318 \r\nL 250.275852 111.585642 \r\nL 253.65767 110.243204 \r\nL 257.039489 108.822589 \r\nL 260.421307 107.440612 \r\nL 263.803125 106.060817 \r\nL 267.184943 104.681479 \r\nL 270.566761 103.323946 \r\nL 273.94858 101.916849 \r\nL 277.330398 100.535513 \r\nL 280.712216 99.153525 \r\nL 284.094034 97.771536 \r\nL 287.475852 96.401346 \r\nL 290.85767 95.011489 \r\nL 294.239489 93.627159 \r\nL 297.621307 92.246194 \r\nL 301.003125 90.866143 \r\nL 304.384943 89.515689 \r\nL 307.766761 88.290048 \r\nL 311.14858 86.968424 \r\nL 314.530398 85.64186 \r\nL 317.912216 84.315297 \r\nL 321.294034 82.988733 \r\nL 324.675852 81.661561 \r\nL 328.05767 80.332491 \r\nL 331.439489 79.003422 \r\nL 334.821307 77.674353 \r\nL 338.203125 76.345283 \r\nL 341.584943 75.016214 \r\nL 344.966761 73.687144 \r\nL 348.34858 72.358075 \r\nL 351.730398 71.029005 \r\nL 355.112216 69.699936 \r\nL 358.494034 68.385168 \r\nL 361.875852 67.104728 \r\nL 365.25767 65.824288 \r\nL 368.639489 64.543848 \r\nL 372.021307 63.263408 \r\nL 375.403125 61.982014 \r\nL 375.403125 17.083636 \r\nL 375.403125 17.083636 \r\nL 372.021307 19.055787 \r\nL 368.639489 21.027937 \r\nL 365.25767 23.000087 \r\nL 361.875852 24.885656 \r\nL 358.494034 26.770078 \r\nL 355.112216 28.6545 \r\nL 351.730398 30.538922 \r\nL 348.34858 32.489907 \r\nL 344.966761 34.536332 \r\nL 341.584943 36.443845 \r\nL 338.203125 38.351735 \r\nL 334.821307 40.260239 \r\nL 331.439489 42.168744 \r\nL 328.05767 44.077249 \r\nL 324.675852 45.985753 \r\nL 321.294034 47.928208 \r\nL 317.912216 49.882067 \r\nL 314.530398 51.835927 \r\nL 311.14858 53.789786 \r\nL 307.766761 55.743645 \r\nL 304.384943 57.675863 \r\nL 301.003125 59.55573 \r\nL 297.621307 61.451009 \r\nL 294.239489 63.497752 \r\nL 290.85767 65.522573 \r\nL 287.475852 67.479562 \r\nL 284.094034 69.434617 \r\nL 280.712216 71.38808 \r\nL 277.330398 73.341543 \r\nL 273.94858 75.295006 \r\nL 270.566761 77.248469 \r\nL 267.184943 79.201932 \r\nL 263.803125 81.160221 \r\nL 260.421307 83.11852 \r\nL 257.039489 85.141865 \r\nL 253.65767 87.074955 \r\nL 250.275852 88.945462 \r\nL 246.894034 90.815514 \r\nL 243.512216 92.68725 \r\nL 240.130398 94.558989 \r\nL 236.74858 96.537808 \r\nL 233.366761 98.507498 \r\nL 229.984943 100.326673 \r\nL 226.603125 102.223545 \r\nL 223.221307 104.031371 \r\nL 219.839489 105.92004 \r\nL 216.45767 107.96009 \r\nL 213.075852 109.867323 \r\nL 209.694034 111.65027 \r\nL 206.312216 113.538319 \r\nL 202.930398 115.503655 \r\nL 199.54858 117.312137 \r\nL 196.166761 119.142533 \r\nL 192.784943 120.906498 \r\nL 189.403125 122.756835 \r\nL 186.021307 124.489314 \r\nL 182.639489 126.367157 \r\nL 179.25767 128.235872 \r\nL 175.875852 129.958319 \r\nL 172.494034 131.803415 \r\nL 169.112216 133.6004 \r\nL 165.730398 135.261673 \r\nL 162.34858 136.796717 \r\nL 158.966761 138.436538 \r\nL 155.584943 140.135927 \r\nL 152.203125 141.78676 \r\nL 148.821307 143.534089 \r\nL 145.439489 145.23342 \r\nL 142.05767 146.778313 \r\nL 138.675852 148.273641 \r\nL 135.294034 149.812226 \r\nL 131.912216 151.425482 \r\nL 128.530398 152.881348 \r\nL 125.14858 154.382347 \r\nL 121.766761 155.797689 \r\nL 118.384943 157.38538 \r\nL 115.003125 159.11 \r\nL 111.621307 160.54438 \r\nL 108.239489 161.949983 \r\nL 104.85767 163.301385 \r\nL 101.475852 164.921221 \r\nL 98.094034 166.421016 \r\nL 94.712216 167.899769 \r\nL 91.330398 169.330967 \r\nL 87.94858 170.761038 \r\nL 84.566761 172.171709 \r\nL 81.184943 173.49806 \r\nL 77.803125 174.828771 \r\nL 74.421307 176.193746 \r\nL 71.039489 177.688562 \r\nL 67.65767 179.106107 \r\nL 64.275852 180.468249 \r\nL 60.894034 181.795104 \r\nL 57.512216 183.239939 \r\nL 54.130398 184.569152 \r\nL 50.74858 185.925162 \r\nL 47.366761 187.145681 \r\nL 43.984943 188.363014 \r\nL 40.603125 189.677062 \r\nz\r\n\" style=\"fill:#1f77b4;fill-opacity:0.15;\"/>\r\n   </g>\r\n   <g id=\"matplotlib.axis_1\">\r\n    <g id=\"xtick_1\">\r\n     <g id=\"line2d_1\">\r\n      <defs>\r\n       <path d=\"M 0 0 \r\nL 0 3.5 \r\n\" id=\"mae4cfd6f56\" style=\"stroke:#000000;stroke-width:0.8;\"/>\r\n      </defs>\r\n      <g>\r\n       <use style=\"stroke:#000000;stroke-width:0.8;\" x=\"75.808964\" xlink:href=\"#mae4cfd6f56\" y=\"224.64\"/>\r\n      </g>\r\n     </g>\r\n     <g id=\"text_1\">\r\n      <!-- 18 -->\r\n      <defs>\r\n       <path d=\"M 12.40625 8.296875 \r\nL 28.515625 8.296875 \r\nL 28.515625 63.921875 \r\nL 10.984375 60.40625 \r\nL 10.984375 69.390625 \r\nL 28.421875 72.90625 \r\nL 38.28125 72.90625 \r\nL 38.28125 8.296875 \r\nL 54.390625 8.296875 \r\nL 54.390625 0 \r\nL 12.40625 0 \r\nz\r\n\" id=\"DejaVuSans-49\"/>\r\n       <path d=\"M 31.78125 34.625 \r\nQ 24.75 34.625 20.71875 30.859375 \r\nQ 16.703125 27.09375 16.703125 20.515625 \r\nQ 16.703125 13.921875 20.71875 10.15625 \r\nQ 24.75 6.390625 31.78125 6.390625 \r\nQ 38.8125 6.390625 42.859375 10.171875 \r\nQ 46.921875 13.96875 46.921875 20.515625 \r\nQ 46.921875 27.09375 42.890625 30.859375 \r\nQ 38.875 34.625 31.78125 34.625 \r\nz\r\nM 21.921875 38.8125 \r\nQ 15.578125 40.375 12.03125 44.71875 \r\nQ 8.5 49.078125 8.5 55.328125 \r\nQ 8.5 64.0625 14.71875 69.140625 \r\nQ 20.953125 74.21875 31.78125 74.21875 \r\nQ 42.671875 74.21875 48.875 69.140625 \r\nQ 55.078125 64.0625 55.078125 55.328125 \r\nQ 55.078125 49.078125 51.53125 44.71875 \r\nQ 48 40.375 41.703125 38.8125 \r\nQ 48.828125 37.15625 52.796875 32.3125 \r\nQ 56.78125 27.484375 56.78125 20.515625 \r\nQ 56.78125 9.90625 50.3125 4.234375 \r\nQ 43.84375 -1.421875 31.78125 -1.421875 \r\nQ 19.734375 -1.421875 13.25 4.234375 \r\nQ 6.78125 9.90625 6.78125 20.515625 \r\nQ 6.78125 27.484375 10.78125 32.3125 \r\nQ 14.796875 37.15625 21.921875 38.8125 \r\nz\r\nM 18.3125 54.390625 \r\nQ 18.3125 48.734375 21.84375 45.5625 \r\nQ 25.390625 42.390625 31.78125 42.390625 \r\nQ 38.140625 42.390625 41.71875 45.5625 \r\nQ 45.3125 48.734375 45.3125 54.390625 \r\nQ 45.3125 60.0625 41.71875 63.234375 \r\nQ 38.140625 66.40625 31.78125 66.40625 \r\nQ 25.390625 66.40625 21.84375 63.234375 \r\nQ 18.3125 60.0625 18.3125 54.390625 \r\nz\r\n\" id=\"DejaVuSans-56\"/>\r\n      </defs>\r\n      <g transform=\"translate(69.446464 239.238437)scale(0.1 -0.1)\">\r\n       <use xlink:href=\"#DejaVuSans-49\"/>\r\n       <use x=\"63.623047\" xlink:href=\"#DejaVuSans-56\"/>\r\n      </g>\r\n     </g>\r\n    </g>\r\n    <g id=\"xtick_2\">\r\n     <g id=\"line2d_2\">\r\n      <g>\r\n       <use style=\"stroke:#000000;stroke-width:0.8;\" x=\"147.621093\" xlink:href=\"#mae4cfd6f56\" y=\"224.64\"/>\r\n      </g>\r\n     </g>\r\n     <g id=\"text_2\">\r\n      <!-- 20 -->\r\n      <defs>\r\n       <path d=\"M 19.1875 8.296875 \r\nL 53.609375 8.296875 \r\nL 53.609375 0 \r\nL 7.328125 0 \r\nL 7.328125 8.296875 \r\nQ 12.9375 14.109375 22.625 23.890625 \r\nQ 32.328125 33.6875 34.8125 36.53125 \r\nQ 39.546875 41.84375 41.421875 45.53125 \r\nQ 43.3125 49.21875 43.3125 52.78125 \r\nQ 43.3125 58.59375 39.234375 62.25 \r\nQ 35.15625 65.921875 28.609375 65.921875 \r\nQ 23.96875 65.921875 18.8125 64.3125 \r\nQ 13.671875 62.703125 7.8125 59.421875 \r\nL 7.8125 69.390625 \r\nQ 13.765625 71.78125 18.9375 73 \r\nQ 24.125 74.21875 28.421875 74.21875 \r\nQ 39.75 74.21875 46.484375 68.546875 \r\nQ 53.21875 62.890625 53.21875 53.421875 \r\nQ 53.21875 48.921875 51.53125 44.890625 \r\nQ 49.859375 40.875 45.40625 35.40625 \r\nQ 44.1875 33.984375 37.640625 27.21875 \r\nQ 31.109375 20.453125 19.1875 8.296875 \r\nz\r\n\" id=\"DejaVuSans-50\"/>\r\n       <path d=\"M 31.78125 66.40625 \r\nQ 24.171875 66.40625 20.328125 58.90625 \r\nQ 16.5 51.421875 16.5 36.375 \r\nQ 16.5 21.390625 20.328125 13.890625 \r\nQ 24.171875 6.390625 31.78125 6.390625 \r\nQ 39.453125 6.390625 43.28125 13.890625 \r\nQ 47.125 21.390625 47.125 36.375 \r\nQ 47.125 51.421875 43.28125 58.90625 \r\nQ 39.453125 66.40625 31.78125 66.40625 \r\nz\r\nM 31.78125 74.21875 \r\nQ 44.046875 74.21875 50.515625 64.515625 \r\nQ 56.984375 54.828125 56.984375 36.375 \r\nQ 56.984375 17.96875 50.515625 8.265625 \r\nQ 44.046875 -1.421875 31.78125 -1.421875 \r\nQ 19.53125 -1.421875 13.0625 8.265625 \r\nQ 6.59375 17.96875 6.59375 36.375 \r\nQ 6.59375 54.828125 13.0625 64.515625 \r\nQ 19.53125 74.21875 31.78125 74.21875 \r\nz\r\n\" id=\"DejaVuSans-48\"/>\r\n      </defs>\r\n      <g transform=\"translate(141.258593 239.238437)scale(0.1 -0.1)\">\r\n       <use xlink:href=\"#DejaVuSans-50\"/>\r\n       <use x=\"63.623047\" xlink:href=\"#DejaVuSans-48\"/>\r\n      </g>\r\n     </g>\r\n    </g>\r\n    <g id=\"xtick_3\">\r\n     <g id=\"line2d_3\">\r\n      <g>\r\n       <use style=\"stroke:#000000;stroke-width:0.8;\" x=\"219.433222\" xlink:href=\"#mae4cfd6f56\" y=\"224.64\"/>\r\n      </g>\r\n     </g>\r\n     <g id=\"text_3\">\r\n      <!-- 22 -->\r\n      <g transform=\"translate(213.070722 239.238437)scale(0.1 -0.1)\">\r\n       <use xlink:href=\"#DejaVuSans-50\"/>\r\n       <use x=\"63.623047\" xlink:href=\"#DejaVuSans-50\"/>\r\n      </g>\r\n     </g>\r\n    </g>\r\n    <g id=\"xtick_4\">\r\n     <g id=\"line2d_4\">\r\n      <g>\r\n       <use style=\"stroke:#000000;stroke-width:0.8;\" x=\"291.245351\" xlink:href=\"#mae4cfd6f56\" y=\"224.64\"/>\r\n      </g>\r\n     </g>\r\n     <g id=\"text_4\">\r\n      <!-- 24 -->\r\n      <defs>\r\n       <path d=\"M 37.796875 64.3125 \r\nL 12.890625 25.390625 \r\nL 37.796875 25.390625 \r\nz\r\nM 35.203125 72.90625 \r\nL 47.609375 72.90625 \r\nL 47.609375 25.390625 \r\nL 58.015625 25.390625 \r\nL 58.015625 17.1875 \r\nL 47.609375 17.1875 \r\nL 47.609375 0 \r\nL 37.796875 0 \r\nL 37.796875 17.1875 \r\nL 4.890625 17.1875 \r\nL 4.890625 26.703125 \r\nz\r\n\" id=\"DejaVuSans-52\"/>\r\n      </defs>\r\n      <g transform=\"translate(284.882851 239.238437)scale(0.1 -0.1)\">\r\n       <use xlink:href=\"#DejaVuSans-50\"/>\r\n       <use x=\"63.623047\" xlink:href=\"#DejaVuSans-52\"/>\r\n      </g>\r\n     </g>\r\n    </g>\r\n    <g id=\"xtick_5\">\r\n     <g id=\"line2d_5\">\r\n      <g>\r\n       <use style=\"stroke:#000000;stroke-width:0.8;\" x=\"363.057481\" xlink:href=\"#mae4cfd6f56\" y=\"224.64\"/>\r\n      </g>\r\n     </g>\r\n     <g id=\"text_5\">\r\n      <!-- 26 -->\r\n      <defs>\r\n       <path d=\"M 33.015625 40.375 \r\nQ 26.375 40.375 22.484375 35.828125 \r\nQ 18.609375 31.296875 18.609375 23.390625 \r\nQ 18.609375 15.53125 22.484375 10.953125 \r\nQ 26.375 6.390625 33.015625 6.390625 \r\nQ 39.65625 6.390625 43.53125 10.953125 \r\nQ 47.40625 15.53125 47.40625 23.390625 \r\nQ 47.40625 31.296875 43.53125 35.828125 \r\nQ 39.65625 40.375 33.015625 40.375 \r\nz\r\nM 52.59375 71.296875 \r\nL 52.59375 62.3125 \r\nQ 48.875 64.0625 45.09375 64.984375 \r\nQ 41.3125 65.921875 37.59375 65.921875 \r\nQ 27.828125 65.921875 22.671875 59.328125 \r\nQ 17.53125 52.734375 16.796875 39.40625 \r\nQ 19.671875 43.65625 24.015625 45.921875 \r\nQ 28.375 48.1875 33.59375 48.1875 \r\nQ 44.578125 48.1875 50.953125 41.515625 \r\nQ 57.328125 34.859375 57.328125 23.390625 \r\nQ 57.328125 12.15625 50.6875 5.359375 \r\nQ 44.046875 -1.421875 33.015625 -1.421875 \r\nQ 20.359375 -1.421875 13.671875 8.265625 \r\nQ 6.984375 17.96875 6.984375 36.375 \r\nQ 6.984375 53.65625 15.1875 63.9375 \r\nQ 23.390625 74.21875 37.203125 74.21875 \r\nQ 40.921875 74.21875 44.703125 73.484375 \r\nQ 48.484375 72.75 52.59375 71.296875 \r\nz\r\n\" id=\"DejaVuSans-54\"/>\r\n      </defs>\r\n      <g transform=\"translate(356.694981 239.238437)scale(0.1 -0.1)\">\r\n       <use xlink:href=\"#DejaVuSans-50\"/>\r\n       <use x=\"63.623047\" xlink:href=\"#DejaVuSans-54\"/>\r\n      </g>\r\n     </g>\r\n    </g>\r\n    <g id=\"text_6\">\r\n     <!-- T2 -->\r\n     <defs>\r\n      <path d=\"M -0.296875 72.90625 \r\nL 61.375 72.90625 \r\nL 61.375 64.59375 \r\nL 35.5 64.59375 \r\nL 35.5 0 \r\nL 25.59375 0 \r\nL 25.59375 64.59375 \r\nL -0.296875 64.59375 \r\nz\r\n\" id=\"DejaVuSans-84\"/>\r\n     </defs>\r\n     <g transform=\"translate(201.767969 252.916562)scale(0.1 -0.1)\">\r\n      <use xlink:href=\"#DejaVuSans-84\"/>\r\n      <use x=\"61.083984\" xlink:href=\"#DejaVuSans-50\"/>\r\n     </g>\r\n    </g>\r\n   </g>\r\n   <g id=\"matplotlib.axis_2\">\r\n    <g id=\"ytick_1\">\r\n     <g id=\"line2d_6\">\r\n      <defs>\r\n       <path d=\"M 0 0 \r\nL -3.5 0 \r\n\" id=\"ma5252f1957\" style=\"stroke:#000000;stroke-width:0.8;\"/>\r\n      </defs>\r\n      <g>\r\n       <use style=\"stroke:#000000;stroke-width:0.8;\" x=\"40.603125\" xlink:href=\"#ma5252f1957\" y=\"204.612674\"/>\r\n      </g>\r\n     </g>\r\n     <g id=\"text_7\">\r\n      <!-- 0 -->\r\n      <g transform=\"translate(27.240625 208.411892)scale(0.1 -0.1)\">\r\n       <use xlink:href=\"#DejaVuSans-48\"/>\r\n      </g>\r\n     </g>\r\n    </g>\r\n    <g id=\"ytick_2\">\r\n     <g id=\"line2d_7\">\r\n      <g>\r\n       <use style=\"stroke:#000000;stroke-width:0.8;\" x=\"40.603125\" xlink:href=\"#ma5252f1957\" y=\"167.154876\"/>\r\n      </g>\r\n     </g>\r\n     <g id=\"text_8\">\r\n      <!-- 5 -->\r\n      <defs>\r\n       <path d=\"M 10.796875 72.90625 \r\nL 49.515625 72.90625 \r\nL 49.515625 64.59375 \r\nL 19.828125 64.59375 \r\nL 19.828125 46.734375 \r\nQ 21.96875 47.46875 24.109375 47.828125 \r\nQ 26.265625 48.1875 28.421875 48.1875 \r\nQ 40.625 48.1875 47.75 41.5 \r\nQ 54.890625 34.8125 54.890625 23.390625 \r\nQ 54.890625 11.625 47.5625 5.09375 \r\nQ 40.234375 -1.421875 26.90625 -1.421875 \r\nQ 22.3125 -1.421875 17.546875 -0.640625 \r\nQ 12.796875 0.140625 7.71875 1.703125 \r\nL 7.71875 11.625 \r\nQ 12.109375 9.234375 16.796875 8.0625 \r\nQ 21.484375 6.890625 26.703125 6.890625 \r\nQ 35.15625 6.890625 40.078125 11.328125 \r\nQ 45.015625 15.765625 45.015625 23.390625 \r\nQ 45.015625 31 40.078125 35.4375 \r\nQ 35.15625 39.890625 26.703125 39.890625 \r\nQ 22.75 39.890625 18.8125 39.015625 \r\nQ 14.890625 38.140625 10.796875 36.28125 \r\nz\r\n\" id=\"DejaVuSans-53\"/>\r\n      </defs>\r\n      <g transform=\"translate(27.240625 170.954095)scale(0.1 -0.1)\">\r\n       <use xlink:href=\"#DejaVuSans-53\"/>\r\n      </g>\r\n     </g>\r\n    </g>\r\n    <g id=\"ytick_3\">\r\n     <g id=\"line2d_8\">\r\n      <g>\r\n       <use style=\"stroke:#000000;stroke-width:0.8;\" x=\"40.603125\" xlink:href=\"#ma5252f1957\" y=\"129.697079\"/>\r\n      </g>\r\n     </g>\r\n     <g id=\"text_9\">\r\n      <!-- 10 -->\r\n      <g transform=\"translate(20.878125 133.496297)scale(0.1 -0.1)\">\r\n       <use xlink:href=\"#DejaVuSans-49\"/>\r\n       <use x=\"63.623047\" xlink:href=\"#DejaVuSans-48\"/>\r\n      </g>\r\n     </g>\r\n    </g>\r\n    <g id=\"ytick_4\">\r\n     <g id=\"line2d_9\">\r\n      <g>\r\n       <use style=\"stroke:#000000;stroke-width:0.8;\" x=\"40.603125\" xlink:href=\"#ma5252f1957\" y=\"92.239281\"/>\r\n      </g>\r\n     </g>\r\n     <g id=\"text_10\">\r\n      <!-- 15 -->\r\n      <g transform=\"translate(20.878125 96.0385)scale(0.1 -0.1)\">\r\n       <use xlink:href=\"#DejaVuSans-49\"/>\r\n       <use x=\"63.623047\" xlink:href=\"#DejaVuSans-53\"/>\r\n      </g>\r\n     </g>\r\n    </g>\r\n    <g id=\"ytick_5\">\r\n     <g id=\"line2d_10\">\r\n      <g>\r\n       <use style=\"stroke:#000000;stroke-width:0.8;\" x=\"40.603125\" xlink:href=\"#ma5252f1957\" y=\"54.781484\"/>\r\n      </g>\r\n     </g>\r\n     <g id=\"text_11\">\r\n      <!-- 20 -->\r\n      <g transform=\"translate(20.878125 58.580703)scale(0.1 -0.1)\">\r\n       <use xlink:href=\"#DejaVuSans-50\"/>\r\n       <use x=\"63.623047\" xlink:href=\"#DejaVuSans-48\"/>\r\n      </g>\r\n     </g>\r\n    </g>\r\n    <g id=\"ytick_6\">\r\n     <g id=\"line2d_11\">\r\n      <g>\r\n       <use style=\"stroke:#000000;stroke-width:0.8;\" x=\"40.603125\" xlink:href=\"#ma5252f1957\" y=\"17.323686\"/>\r\n      </g>\r\n     </g>\r\n     <g id=\"text_12\">\r\n      <!-- 25 -->\r\n      <g transform=\"translate(20.878125 21.122905)scale(0.1 -0.1)\">\r\n       <use xlink:href=\"#DejaVuSans-50\"/>\r\n       <use x=\"63.623047\" xlink:href=\"#DejaVuSans-53\"/>\r\n      </g>\r\n     </g>\r\n    </g>\r\n    <g id=\"text_13\">\r\n     <!-- T6 -->\r\n     <g transform=\"translate(14.798438 122.155156)rotate(-90)scale(0.1 -0.1)\">\r\n      <use xlink:href=\"#DejaVuSans-84\"/>\r\n      <use x=\"61.083984\" xlink:href=\"#DejaVuSans-54\"/>\r\n     </g>\r\n    </g>\r\n   </g>\r\n   <g id=\"line2d_12\">\r\n    <path clip-path=\"url(#p9e3dec2b24)\" d=\"M 40.603125 202.083986 \r\nL 43.984943 200.447925 \r\nL 47.366761 198.811864 \r\nL 50.74858 197.175802 \r\nL 54.130398 195.539741 \r\nL 57.512216 193.903679 \r\nL 60.894034 192.267618 \r\nL 64.275852 190.631556 \r\nL 67.65767 188.995495 \r\nL 71.039489 187.359434 \r\nL 74.421307 185.723372 \r\nL 77.803125 184.087311 \r\nL 81.184943 182.451249 \r\nL 84.566761 180.815188 \r\nL 87.94858 179.179126 \r\nL 91.330398 177.543065 \r\nL 94.712216 175.907004 \r\nL 98.094034 174.270942 \r\nL 101.475852 172.634881 \r\nL 104.85767 170.998819 \r\nL 108.239489 169.362758 \r\nL 111.621307 167.726696 \r\nL 115.003125 166.090635 \r\nL 118.384943 164.454574 \r\nL 121.766761 162.818512 \r\nL 125.14858 161.182451 \r\nL 128.530398 159.546389 \r\nL 131.912216 157.910328 \r\nL 135.294034 156.274266 \r\nL 138.675852 154.638205 \r\nL 142.05767 153.002144 \r\nL 145.439489 151.366082 \r\nL 148.821307 149.730021 \r\nL 152.203125 148.093959 \r\nL 155.584943 146.457898 \r\nL 158.966761 144.821836 \r\nL 162.34858 143.185775 \r\nL 165.730398 141.549714 \r\nL 169.112216 139.913652 \r\nL 172.494034 138.277591 \r\nL 175.875852 136.641529 \r\nL 179.25767 135.005468 \r\nL 182.639489 133.369406 \r\nL 186.021307 131.733345 \r\nL 189.403125 130.097283 \r\nL 192.784943 128.461222 \r\nL 196.166761 126.825161 \r\nL 199.54858 125.189099 \r\nL 202.930398 123.553038 \r\nL 206.312216 121.916976 \r\nL 209.694034 120.280915 \r\nL 213.075852 118.644853 \r\nL 216.45767 117.008792 \r\nL 219.839489 115.372731 \r\nL 223.221307 113.736669 \r\nL 226.603125 112.100608 \r\nL 229.984943 110.464546 \r\nL 233.366761 108.828485 \r\nL 236.74858 107.192423 \r\nL 240.130398 105.556362 \r\nL 243.512216 103.920301 \r\nL 246.894034 102.284239 \r\nL 250.275852 100.648178 \r\nL 253.65767 99.012116 \r\nL 257.039489 97.376055 \r\nL 260.421307 95.739993 \r\nL 263.803125 94.103932 \r\nL 267.184943 92.467871 \r\nL 270.566761 90.831809 \r\nL 273.94858 89.195748 \r\nL 277.330398 87.559686 \r\nL 280.712216 85.923625 \r\nL 284.094034 84.287563 \r\nL 287.475852 82.651502 \r\nL 290.85767 81.015441 \r\nL 294.239489 79.379379 \r\nL 297.621307 77.743318 \r\nL 301.003125 76.107256 \r\nL 304.384943 74.471195 \r\nL 307.766761 72.835133 \r\nL 311.14858 71.199072 \r\nL 314.530398 69.563011 \r\nL 317.912216 67.926949 \r\nL 321.294034 66.290888 \r\nL 324.675852 64.654826 \r\nL 328.05767 63.018765 \r\nL 331.439489 61.382703 \r\nL 334.821307 59.746642 \r\nL 338.203125 58.110581 \r\nL 341.584943 56.474519 \r\nL 344.966761 54.838458 \r\nL 348.34858 53.202396 \r\nL 351.730398 51.566335 \r\nL 355.112216 49.930273 \r\nL 358.494034 48.294212 \r\nL 361.875852 46.658151 \r\nL 365.25767 45.022089 \r\nL 368.639489 43.386028 \r\nL 372.021307 41.749966 \r\nL 375.403125 40.113905 \r\n\" style=\"fill:none;stroke:#1f77b4;stroke-linecap:square;stroke-width:2.25;\"/>\r\n   </g>\r\n   <g id=\"patch_3\">\r\n    <path d=\"M 40.603125 224.64 \r\nL 40.603125 7.2 \r\n\" style=\"fill:none;stroke:#000000;stroke-linecap:square;stroke-linejoin:miter;stroke-width:0.8;\"/>\r\n   </g>\r\n   <g id=\"patch_4\">\r\n    <path d=\"M 375.403125 224.64 \r\nL 375.403125 7.2 \r\n\" style=\"fill:none;stroke:#000000;stroke-linecap:square;stroke-linejoin:miter;stroke-width:0.8;\"/>\r\n   </g>\r\n   <g id=\"patch_5\">\r\n    <path d=\"M 40.603125 224.64 \r\nL 375.403125 224.64 \r\n\" style=\"fill:none;stroke:#000000;stroke-linecap:square;stroke-linejoin:miter;stroke-width:0.8;\"/>\r\n   </g>\r\n   <g id=\"patch_6\">\r\n    <path d=\"M 40.603125 7.2 \r\nL 375.403125 7.2 \r\n\" style=\"fill:none;stroke:#000000;stroke-linecap:square;stroke-linejoin:miter;stroke-width:0.8;\"/>\r\n   </g>\r\n  </g>\r\n </g>\r\n <defs>\r\n  <clipPath id=\"p9e3dec2b24\">\r\n   <rect height=\"217.44\" width=\"334.8\" x=\"40.603125\" y=\"7.2\"/>\r\n  </clipPath>\r\n </defs>\r\n</svg>\r\n",
      "image/png": "[encoded data removed]"
     },
     "metadata": {
      "needs_background": "light"
     }
    }
   ],
   "source": [
    "simple_linear_reg_df = df[['T2', 'T6']].sample(50, random_state=1)\n",
    "sns.regplot(x=\"T2\", y=\"T6\",\n",
    "            data=simple_linear_reg_df)"
   ]
  },
  {
   "cell_type": "code",
   "execution_count": 11,
   "metadata": {},
   "outputs": [],
   "source": [
    "features_dfano = normalised_df['T2']\n",
    "targetano = normalised_df['T6']\n",
    "features_dfano = np.array(features_dfano).reshape(-1, 1)"
   ]
  },
  {
   "cell_type": "code",
   "execution_count": 12,
   "metadata": {},
   "outputs": [],
   "source": [
    "from sklearn.model_selection import train_test_split\n",
    "x_train, x_test, y_train, y_test = train_test_split(features_dfano, targetano, test_size=0.3, random_state=42)\n"
   ]
  },
  {
   "cell_type": "code",
   "execution_count": 13,
   "metadata": {},
   "outputs": [
    {
     "output_type": "execute_result",
     "data": {
      "text/plain": "LinearRegression(copy_X=True, fit_intercept=True, n_jobs=None, normalize=False)"
     },
     "metadata": {},
     "execution_count": 13
    }
   ],
   "source": [
    "from sklearn.linear_model import LinearRegression\n",
    "model = LinearRegression()\n",
    "model.fit(x_train,y_train)"
   ]
  },
  {
   "cell_type": "code",
   "execution_count": 14,
   "metadata": {
    "tags": []
   },
   "outputs": [
    {
     "output_type": "stream",
     "name": "stdout",
     "text": "Coefficient of Determination(R^2): 0.64\n"
    }
   ],
   "source": [
    "r_sq = model.score(x_train,y_train)\n",
    "print('Coefficient of Determination(R^2):', round(r_sq, 2))"
   ]
  },
  {
   "cell_type": "markdown",
   "metadata": {},
   "source": []
  },
  {
   "cell_type": "code",
   "execution_count": 15,
   "metadata": {},
   "outputs": [],
   "source": [
    "features_df = normalised_df.drop(columns=['Appliances'])\n",
    "target = normalised_df['Appliances']"
   ]
  },
  {
   "cell_type": "code",
   "execution_count": 16,
   "metadata": {},
   "outputs": [],
   "source": [
    "\n",
    "from sklearn.model_selection import train_test_split\n",
    "x_train, x_test, y_train, y_test = train_test_split(features_df, target, test_size=0.3, random_state=42)\n"
   ]
  },
  {
   "cell_type": "code",
   "execution_count": 17,
   "metadata": {},
   "outputs": [],
   "source": [
    "linear_model = LinearRegression()\n",
    "#fit the model to the training dataset\n",
    "linear_model.fit(x_train, y_train)\n",
    "#obtain predictions\n",
    "predicted_values = linear_model.predict(x_test)"
   ]
  },
  {
   "cell_type": "code",
   "execution_count": 18,
   "metadata": {},
   "outputs": [
    {
     "output_type": "execute_result",
     "data": {
      "text/plain": "0.05"
     },
     "metadata": {},
     "execution_count": 18
    }
   ],
   "source": [
    "#MAE\n",
    "from sklearn.metrics import mean_absolute_error\n",
    "mae = mean_absolute_error(y_test, predicted_values)\n",
    "round(mae, 2)"
   ]
  },
  {
   "cell_type": "code",
   "execution_count": 19,
   "metadata": {},
   "outputs": [
    {
     "output_type": "execute_result",
     "data": {
      "text/plain": "0.088"
     },
     "metadata": {},
     "execution_count": 19
    }
   ],
   "source": [
    "#RMSE\n",
    "from sklearn.metrics import  mean_squared_error\n",
    "rmse = np.sqrt(mean_squared_error(y_test, predicted_values))\n",
    "round(rmse, 3) "
   ]
  },
  {
   "cell_type": "code",
   "execution_count": 20,
   "metadata": {},
   "outputs": [
    {
     "output_type": "execute_result",
     "data": {
      "text/plain": "0.15"
     },
     "metadata": {},
     "execution_count": 20
    }
   ],
   "source": [
    "#R_Squared\n",
    "from sklearn.metrics import r2_score\n",
    "r2_score = r2_score(y_test, predicted_values)\n",
    "round(r2_score, 2)\n"
   ]
  },
  {
   "cell_type": "code",
   "execution_count": 21,
   "metadata": {},
   "outputs": [
    {
     "output_type": "execute_result",
     "data": {
      "text/plain": "45.35"
     },
     "metadata": {},
     "execution_count": 21
    }
   ],
   "source": [
    "#RSS\n",
    "rss = np.sum(np.square(y_test - predicted_values))\n",
    "round(rss, 2)\t    "
   ]
  },
  {
   "cell_type": "markdown",
   "metadata": {},
   "source": [
    "### Train a ridge regression model with an alpha value of 0.4. is there any change to the root mean squared error (RMSE) when evaluated on the test set?"
   ]
  },
  {
   "cell_type": "code",
   "execution_count": 22,
   "metadata": {},
   "outputs": [
    {
     "output_type": "execute_result",
     "data": {
      "text/plain": "Ridge(alpha=0.5, copy_X=True, fit_intercept=True, max_iter=None,\n      normalize=False, random_state=None, solver='auto', tol=0.001)"
     },
     "metadata": {},
     "execution_count": 22
    }
   ],
   "source": [
    "from sklearn.linear_model import Ridge\n",
    "ridge_reg = Ridge(alpha=0.5)\n",
    "ridge_reg.fit(x_train, y_train)"
   ]
  },
  {
   "cell_type": "code",
   "execution_count": 23,
   "metadata": {},
   "outputs": [
    {
     "output_type": "execute_result",
     "data": {
      "text/plain": "0.088"
     },
     "metadata": {},
     "execution_count": 23
    }
   ],
   "source": [
    "predicted_values_ridge = ridge_reg.predict(x_test)\n",
    "#RMSE\n",
    "from sklearn.metrics import  mean_squared_error\n",
    "rmse = np.sqrt(mean_squared_error(y_test, predicted_values_ridge))\n",
    "round(rmse, 3) "
   ]
  },
  {
   "cell_type": "markdown",
   "metadata": {},
   "source": [
    "### Train a lasso regression model with an alpha value of 0.001 and obtain the new feature weights with it How many features have non zero feature weights?"
   ]
  },
  {
   "cell_type": "code",
   "execution_count": 24,
   "metadata": {},
   "outputs": [
    {
     "output_type": "execute_result",
     "data": {
      "text/plain": "Lasso(alpha=0.001, copy_X=True, fit_intercept=True, max_iter=1000,\n      normalize=False, positive=False, precompute=False, random_state=None,\n      selection='cyclic', tol=0.0001, warm_start=False)"
     },
     "metadata": {},
     "execution_count": 24
    }
   ],
   "source": [
    "from sklearn.linear_model import Lasso\n",
    "lasso_reg = Lasso(alpha=0.001)\n",
    "lasso_reg.fit(x_train, y_train)"
   ]
  },
  {
   "cell_type": "markdown",
   "metadata": {},
   "source": [
    "### Whats is the new RMSE with the Lasso Regression (in 3 decimal places)?"
   ]
  },
  {
   "cell_type": "code",
   "execution_count": 25,
   "metadata": {},
   "outputs": [
    {
     "output_type": "execute_result",
     "data": {
      "text/plain": "0.094"
     },
     "metadata": {},
     "execution_count": 25
    }
   ],
   "source": [
    "predicted_values_lasso = lasso_reg.predict(x_test)\n",
    "#RMSE\n",
    "from sklearn.metrics import  mean_squared_error\n",
    "rmse = np.sqrt(mean_squared_error(y_test, predicted_values_lasso))\n",
    "round(rmse, 3) "
   ]
  },
  {
   "cell_type": "code",
   "execution_count": 26,
   "metadata": {},
   "outputs": [],
   "source": [
    "#comparing the effects of regularisation\n",
    "def get_weights_df(model, feat, col_name):\n",
    "  #this function returns the weight of every feature\n",
    "  weights = pd.Series(model.coef_, feat.columns).sort_values()\n",
    "  weights_df = pd.DataFrame(weights).reset_index()\n",
    "  weights_df.columns = ['Features', col_name]\n",
    "  weights_df[col_name].round(3)\n",
    "  return weights_df\n",
    "\n",
    "linear_model_weights = get_weights_df(linear_model, x_train, 'Linear_Model_Weight')\n",
    "ridge_weights_df = get_weights_df(ridge_reg, x_train, 'Ridge_Weight')\n",
    "lasso_weights_df = get_weights_df(lasso_reg, x_train, 'Lasso_weight')\n",
    "\n",
    "final_weights = pd.merge(linear_model_weights, ridge_weights_df, on='Features')\n",
    "final_weights = pd.merge(final_weights, lasso_weights_df, on='Features')"
   ]
  },
  {
   "cell_type": "code",
   "execution_count": 27,
   "metadata": {},
   "outputs": [
    {
     "output_type": "execute_result",
     "data": {
      "text/plain": "       Linear_Model_Weight  Ridge_Weight  Lasso_weight\ncount            26.000000     26.000000     26.000000\nmean              0.000874      0.002930     -0.001111\nstd               0.192184      0.172954      0.010492\nmin              -0.456698     -0.401134     -0.049557\n25%              -0.043410     -0.045143      0.000000\n50%               0.008579      0.008269      0.000000\n75%               0.035832      0.033883     -0.000000\nmax               0.553547      0.511932      0.017880",
      "text/html": "<div>\n<style scoped>\n    .dataframe tbody tr th:only-of-type {\n        vertical-align: middle;\n    }\n\n    .dataframe tbody tr th {\n        vertical-align: top;\n    }\n\n    .dataframe thead th {\n        text-align: right;\n    }\n</style>\n<table border=\"1\" class=\"dataframe\">\n  <thead>\n    <tr style=\"text-align: right;\">\n      <th></th>\n      <th>Linear_Model_Weight</th>\n      <th>Ridge_Weight</th>\n      <th>Lasso_weight</th>\n    </tr>\n  </thead>\n  <tbody>\n    <tr>\n      <td>count</td>\n      <td>26.000000</td>\n      <td>26.000000</td>\n      <td>26.000000</td>\n    </tr>\n    <tr>\n      <td>mean</td>\n      <td>0.000874</td>\n      <td>0.002930</td>\n      <td>-0.001111</td>\n    </tr>\n    <tr>\n      <td>std</td>\n      <td>0.192184</td>\n      <td>0.172954</td>\n      <td>0.010492</td>\n    </tr>\n    <tr>\n      <td>min</td>\n      <td>-0.456698</td>\n      <td>-0.401134</td>\n      <td>-0.049557</td>\n    </tr>\n    <tr>\n      <td>25%</td>\n      <td>-0.043410</td>\n      <td>-0.045143</td>\n      <td>0.000000</td>\n    </tr>\n    <tr>\n      <td>50%</td>\n      <td>0.008579</td>\n      <td>0.008269</td>\n      <td>0.000000</td>\n    </tr>\n    <tr>\n      <td>75%</td>\n      <td>0.035832</td>\n      <td>0.033883</td>\n      <td>-0.000000</td>\n    </tr>\n    <tr>\n      <td>max</td>\n      <td>0.553547</td>\n      <td>0.511932</td>\n      <td>0.017880</td>\n    </tr>\n  </tbody>\n</table>\n</div>"
     },
     "metadata": {},
     "execution_count": 27
    }
   ],
   "source": [
    "final_weights.describe()"
   ]
  },
  {
   "cell_type": "code",
   "execution_count": 28,
   "metadata": {},
   "outputs": [
    {
     "output_type": "execute_result",
     "data": {
      "text/plain": "       Features  Linear_Model_Weight  Ridge_Weight  Lasso_weight\n0          RH_2            -0.456698     -0.401134     -0.000000\n1         T_out            -0.321860     -0.250765      0.000000\n2            T2            -0.236178     -0.193880      0.000000\n3            T9            -0.189941     -0.188584     -0.000000\n4          RH_8            -0.157595     -0.156596     -0.000110\n5        RH_out            -0.077671     -0.050541     -0.049557\n6          RH_7            -0.044614     -0.046291     -0.000000\n7          RH_9            -0.039800     -0.041701     -0.000000\n8            T5            -0.015657     -0.020727     -0.000000\n9            T1            -0.003281     -0.021549      0.000000\n10          rv1             0.000770      0.000743     -0.000000\n11          rv2             0.000770      0.000743     -0.000000\n12  Press_mm_hg             0.006839      0.006516     -0.000000\n13           T7             0.010319      0.010021     -0.000000\n14   Visibility             0.012307      0.012032      0.000000\n15         RH_5             0.016006      0.016176      0.000000\n16         RH_4             0.026386      0.024168      0.000000\n17           T4             0.028981      0.027006     -0.000000\n18    Windspeed             0.029183      0.030463      0.002912\n19         RH_6             0.038049      0.035023     -0.000000\n20         RH_3             0.096048      0.094976      0.000000\n21           T8             0.101995      0.100754      0.000000\n22    Tdewpoint             0.117758      0.076668      0.000000\n23           T6             0.236425      0.213316      0.000000\n24           T3             0.290627      0.287408      0.000000\n25         RH_1             0.553547      0.511932      0.017880",
      "text/html": "<div>\n<style scoped>\n    .dataframe tbody tr th:only-of-type {\n        vertical-align: middle;\n    }\n\n    .dataframe tbody tr th {\n        vertical-align: top;\n    }\n\n    .dataframe thead th {\n        text-align: right;\n    }\n</style>\n<table border=\"1\" class=\"dataframe\">\n  <thead>\n    <tr style=\"text-align: right;\">\n      <th></th>\n      <th>Features</th>\n      <th>Linear_Model_Weight</th>\n      <th>Ridge_Weight</th>\n      <th>Lasso_weight</th>\n    </tr>\n  </thead>\n  <tbody>\n    <tr>\n      <td>0</td>\n      <td>RH_2</td>\n      <td>-0.456698</td>\n      <td>-0.401134</td>\n      <td>-0.000000</td>\n    </tr>\n    <tr>\n      <td>1</td>\n      <td>T_out</td>\n      <td>-0.321860</td>\n      <td>-0.250765</td>\n      <td>0.000000</td>\n    </tr>\n    <tr>\n      <td>2</td>\n      <td>T2</td>\n      <td>-0.236178</td>\n      <td>-0.193880</td>\n      <td>0.000000</td>\n    </tr>\n    <tr>\n      <td>3</td>\n      <td>T9</td>\n      <td>-0.189941</td>\n      <td>-0.188584</td>\n      <td>-0.000000</td>\n    </tr>\n    <tr>\n      <td>4</td>\n      <td>RH_8</td>\n      <td>-0.157595</td>\n      <td>-0.156596</td>\n      <td>-0.000110</td>\n    </tr>\n    <tr>\n      <td>5</td>\n      <td>RH_out</td>\n      <td>-0.077671</td>\n      <td>-0.050541</td>\n      <td>-0.049557</td>\n    </tr>\n    <tr>\n      <td>6</td>\n      <td>RH_7</td>\n      <td>-0.044614</td>\n      <td>-0.046291</td>\n      <td>-0.000000</td>\n    </tr>\n    <tr>\n      <td>7</td>\n      <td>RH_9</td>\n      <td>-0.039800</td>\n      <td>-0.041701</td>\n      <td>-0.000000</td>\n    </tr>\n    <tr>\n      <td>8</td>\n      <td>T5</td>\n      <td>-0.015657</td>\n      <td>-0.020727</td>\n      <td>-0.000000</td>\n    </tr>\n    <tr>\n      <td>9</td>\n      <td>T1</td>\n      <td>-0.003281</td>\n      <td>-0.021549</td>\n      <td>0.000000</td>\n    </tr>\n    <tr>\n      <td>10</td>\n      <td>rv1</td>\n      <td>0.000770</td>\n      <td>0.000743</td>\n      <td>-0.000000</td>\n    </tr>\n    <tr>\n      <td>11</td>\n      <td>rv2</td>\n      <td>0.000770</td>\n      <td>0.000743</td>\n      <td>-0.000000</td>\n    </tr>\n    <tr>\n      <td>12</td>\n      <td>Press_mm_hg</td>\n      <td>0.006839</td>\n      <td>0.006516</td>\n      <td>-0.000000</td>\n    </tr>\n    <tr>\n      <td>13</td>\n      <td>T7</td>\n      <td>0.010319</td>\n      <td>0.010021</td>\n      <td>-0.000000</td>\n    </tr>\n    <tr>\n      <td>14</td>\n      <td>Visibility</td>\n      <td>0.012307</td>\n      <td>0.012032</td>\n      <td>0.000000</td>\n    </tr>\n    <tr>\n      <td>15</td>\n      <td>RH_5</td>\n      <td>0.016006</td>\n      <td>0.016176</td>\n      <td>0.000000</td>\n    </tr>\n    <tr>\n      <td>16</td>\n      <td>RH_4</td>\n      <td>0.026386</td>\n      <td>0.024168</td>\n      <td>0.000000</td>\n    </tr>\n    <tr>\n      <td>17</td>\n      <td>T4</td>\n      <td>0.028981</td>\n      <td>0.027006</td>\n      <td>-0.000000</td>\n    </tr>\n    <tr>\n      <td>18</td>\n      <td>Windspeed</td>\n      <td>0.029183</td>\n      <td>0.030463</td>\n      <td>0.002912</td>\n    </tr>\n    <tr>\n      <td>19</td>\n      <td>RH_6</td>\n      <td>0.038049</td>\n      <td>0.035023</td>\n      <td>-0.000000</td>\n    </tr>\n    <tr>\n      <td>20</td>\n      <td>RH_3</td>\n      <td>0.096048</td>\n      <td>0.094976</td>\n      <td>0.000000</td>\n    </tr>\n    <tr>\n      <td>21</td>\n      <td>T8</td>\n      <td>0.101995</td>\n      <td>0.100754</td>\n      <td>0.000000</td>\n    </tr>\n    <tr>\n      <td>22</td>\n      <td>Tdewpoint</td>\n      <td>0.117758</td>\n      <td>0.076668</td>\n      <td>0.000000</td>\n    </tr>\n    <tr>\n      <td>23</td>\n      <td>T6</td>\n      <td>0.236425</td>\n      <td>0.213316</td>\n      <td>0.000000</td>\n    </tr>\n    <tr>\n      <td>24</td>\n      <td>T3</td>\n      <td>0.290627</td>\n      <td>0.287408</td>\n      <td>0.000000</td>\n    </tr>\n    <tr>\n      <td>25</td>\n      <td>RH_1</td>\n      <td>0.553547</td>\n      <td>0.511932</td>\n      <td>0.017880</td>\n    </tr>\n  </tbody>\n</table>\n</div>"
     },
     "metadata": {},
     "execution_count": 28
    }
   ],
   "source": [
    "final_weights"
   ]
  },
  {
   "cell_type": "code",
   "execution_count": null,
   "metadata": {},
   "outputs": [],
   "source": []
  }
 ]
}